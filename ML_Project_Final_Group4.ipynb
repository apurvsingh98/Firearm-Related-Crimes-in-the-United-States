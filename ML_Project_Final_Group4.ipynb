{
  "cells": [
    {
      "cell_type": "markdown",
      "metadata": {
        "id": "DQE9I3SOajYu"
      },
      "source": [
        "## Final Project - Data Cleaning\n",
        "## Machine Learning Foundations with Python (90-803)\n",
        "\n",
        "## Group 4\n",
        "\n",
        "* Yue Sun, Andrew ID: yuesun, GitHub username YueSun98310\n",
        "* Noah Russo, Andrew ID: nrusso, GitHub username: noahcrusso\n",
        "* Apurv Singh, Andrew ID: apurvs, GitHub username: apurvsingh98\n"
      ]
    },
    {
      "cell_type": "code",
      "execution_count": 271,
      "metadata": {
        "id": "WmYvEiy7qxmD"
      },
      "outputs": [],
      "source": [
        "import numpy as np\n",
        "import pandas as pd\n",
        "import seaborn as sns\n",
        "import warnings\n",
        "warnings.filterwarnings('ignore')\n",
        "import statsmodels.api as sm\n",
        "import statsmodels.formula.api as smf\n",
        "from sklearn.metrics import mean_squared_error\n",
        "from sklearn.linear_model import LinearRegression, Ridge, RidgeCV, Lasso, LassoCV, LogisticRegression, ElasticNet\n",
        "from sklearn.preprocessing import PolynomialFeatures, StandardScaler, MinMaxScaler, RobustScaler, OneHotEncoder, OrdinalEncoder, LabelEncoder\n",
        "from sklearn.feature_selection import SequentialFeatureSelector\n",
        "from sklearn.model_selection import train_test_split, cross_val_score\n",
        "from sklearn.utils import resample\n",
        "from sklearn.naive_bayes import GaussianNB\n",
        "from sklearn.tree import DecisionTreeClassifier\n",
        "from sklearn.ensemble import AdaBoostClassifier\n",
        "from imblearn.under_sampling import RandomUnderSampler\n",
        "from sklearn.metrics import confusion_matrix, ConfusionMatrixDisplay, classification_report, roc_auc_score, roc_curve, mean_squared_error, accuracy_score, r2_score, precision_score, recall_score, f1_score\n",
        "from imblearn.over_sampling import SMOTE, RandomOverSampler\n",
        "from imblearn.under_sampling import RandomUnderSampler, TomekLinks\n",
        "from matplotlib import pyplot as plt\n",
        "from sklearn.model_selection import GridSearchCV\n",
        "from sklearn.neighbors import KNeighborsClassifier\n",
        "from imblearn.over_sampling import SMOTE, RandomOverSampler\n",
        "from imblearn.under_sampling import RandomUnderSampler, TomekLinks\n",
        "from yellowbrick.target import ClassBalance\n",
        "\n",
        "%matplotlib inline"
      ]
    },
    {
      "cell_type": "markdown",
      "metadata": {
        "id": "I1TJc0Km0N-L"
      },
      "source": [
        "# Question 1\n",
        "\n",
        "### What state-level firearm-restrictive laws have the highest effect on preventing homicide? \n"
      ]
    },
    {
      "cell_type": "markdown",
      "metadata": {
        "id": "_w50cqkI0Q6s"
      },
      "source": [
        "### Data Processing for question 1"
      ]
    },
    {
      "cell_type": "markdown",
      "metadata": {
        "id": "efPkDp_-1w2d"
      },
      "source": [
        "Dataset1: Loading gun law dataset which has the different legislative gun law restriction for different states in the US"
      ]
    },
    {
      "cell_type": "code",
      "execution_count": 272,
      "metadata": {
        "colab": {
          "base_uri": "https://localhost:8080/"
        },
        "id": "qwuCDwqtzea0",
        "outputId": "ab88b248-3612-4509-9b03-0e5b0f6078c4"
      },
      "outputs": [
        {
          "output_type": "stream",
          "name": "stdout",
          "text": [
            "     state  year  felony  invcommitment  invoutpatient  danger  \\\n",
            "0  Alabama  1991       0              0              0       0   \n",
            "1  Alabama  1992       0              0              0       0   \n",
            "2  Alabama  1993       0              0              0       0   \n",
            "3  Alabama  1994       0              0              0       0   \n",
            "4  Alabama  1995       0              0              0       0   \n",
            "\n",
            "   drugmisdemeanor  alctreatment  alcoholism  relinquishment  ...  \\\n",
            "0                0             0           1               0  ...   \n",
            "1                0             0           1               0  ...   \n",
            "2                0             0           1               0  ...   \n",
            "3                0             0           1               0  ...   \n",
            "4                0             0           1               0  ...   \n",
            "\n",
            "   expartedating  dvrosurrender  dvrosurrendernoconditions  \\\n",
            "0              0              0                          0   \n",
            "1              0              0                          0   \n",
            "2              0              0                          0   \n",
            "3              0              0                          0   \n",
            "4              0              0                          0   \n",
            "\n",
            "   dvrosurrenderdating  expartesurrender  expartesurrendernoconditions  \\\n",
            "0                    0                 0                             0   \n",
            "1                    0                 0                             0   \n",
            "2                    0                 0                             0   \n",
            "3                    0                 0                             0   \n",
            "4                    0                 0                             0   \n",
            "\n",
            "   expartesurrenderdating  dvroremoval  stalking  lawtotal  \n",
            "0                       0            0         0        15  \n",
            "1                       0            0         1        16  \n",
            "2                       0            0         1        16  \n",
            "3                       0            0         1        16  \n",
            "4                       0            0         1        16  \n",
            "\n",
            "[5 rows x 137 columns]\n"
          ]
        }
      ],
      "source": [
        "gunlaws = pd.read_csv('gun_laws.csv')\n",
        "print(gunlaws.head())"
      ]
    },
    {
      "cell_type": "markdown",
      "metadata": {
        "id": "WeEN7IIpxSqB"
      },
      "source": [
        "Dataset2: CDC Data to get the average gun related death rate for the population of each states"
      ]
    },
    {
      "cell_type": "code",
      "execution_count": 273,
      "metadata": {
        "colab": {
          "base_uri": "https://localhost:8080/"
        },
        "id": "iq3A63GFMGvW",
        "outputId": "91239261-cc73-4451-a157-44fdc7b3a046"
      },
      "outputs": [
        {
          "output_type": "stream",
          "name": "stdout",
          "text": [
            "      State Name  State FIPS  Population Deaths Crude Rate Age Adjusted Rate  \\\n",
            "0  West Virginia        54.0   1784787.0     87       4.88              5.54   \n",
            "1        Florida        12.0  21733312.0   1227       5.65              6.32   \n",
            "2       Illinois        17.0  12587530.0   1167       9.27              9.67   \n",
            "3      Minnesota        27.0   5657342.0    138       2.44              2.53   \n",
            "4       Maryland        24.0   6055802.0    526       8.69              9.21   \n",
            "\n",
            "    YPLL YPLL Crude Rate  YPLL Age-Adjusted Rate YPLL Calculated Year  \\\n",
            "0   2424          171.77                  188.12   YPLL before age 65   \n",
            "1  39866          233.20                  243.82   YPLL before age 65   \n",
            "2  40264          383.53                  384.03   YPLL before age 65   \n",
            "3   4572           97.10                   98.71   YPLL before age 65   \n",
            "4  17795          351.09                  362.97   YPLL before age 65   \n",
            "\n",
            "                                      appliedFilters  \n",
            "0  Homicide Firearm Deaths, All States state(s), ...  \n",
            "1  Homicide Firearm Deaths, All States state(s), ...  \n",
            "2  Homicide Firearm Deaths, All States state(s), ...  \n",
            "3  Homicide Firearm Deaths, All States state(s), ...  \n",
            "4  Homicide Firearm Deaths, All States state(s), ...  \n"
          ]
        }
      ],
      "source": [
        "#Loading the csv\n",
        "gun_violence = pd.read_csv(\"CDC.csv\")\n",
        "gun_violence = gun_violence[:51]\n",
        "print(gun_violence.head())\n",
        "\n",
        "#getting the relevant columns\n",
        "gun_violence = gun_violence[['State Name','Population','Deaths']]\n"
      ]
    },
    {
      "cell_type": "markdown",
      "metadata": {
        "id": "JSNjpwHBQIch"
      },
      "source": [
        "## Feature Engineering"
      ]
    },
    {
      "cell_type": "markdown",
      "metadata": {
        "id": "guNgfKkYxgiU"
      },
      "source": [
        "Fixing Inconsistent data "
      ]
    },
    {
      "cell_type": "code",
      "execution_count": 274,
      "metadata": {
        "colab": {
          "base_uri": "https://localhost:8080/"
        },
        "id": "Tpm14SQ6R3CX",
        "outputId": "7d699c46-777a-4c75-c842-fb0b02ddd9e8"
      },
      "outputs": [
        {
          "output_type": "stream",
          "name": "stdout",
          "text": [
            "0       87\n",
            "1     1227\n",
            "2     1167\n",
            "3      138\n",
            "4      526\n",
            "5       22\n",
            "6       26\n",
            "7       --\n",
            "8      744\n",
            "9       --\n",
            "10     101\n",
            "11      76\n",
            "12     149\n",
            "13    1732\n",
            "14     253\n",
            "15     253\n",
            "16     109\n",
            "17      49\n",
            "18     788\n",
            "19     211\n",
            "20     747\n",
            "21     899\n",
            "22     564\n",
            "23      75\n",
            "24     824\n",
            "25    1734\n",
            "26     235\n",
            "27     528\n",
            "28     269\n",
            "29     652\n",
            "30    18**\n",
            "31    16**\n",
            "32    17**\n",
            "33     341\n",
            "34    15**\n",
            "35     561\n",
            "36     148\n",
            "37      27\n",
            "38     672\n",
            "39     282\n",
            "40     499\n",
            "41     683\n",
            "42      33\n",
            "43     160\n",
            "44     496\n",
            "45      26\n",
            "46     130\n",
            "47     440\n",
            "48     157\n",
            "49      83\n",
            "50     382\n",
            "Name: Deaths, dtype: object\n"
          ]
        }
      ],
      "source": [
        "#Checking for inconsistent values\n",
        "print(gun_violence['Deaths'])\n",
        "\n",
        "#Fixing the values that have characters\n",
        "gun_violence.loc[7, 'Deaths'] = 0\n",
        "gun_violence.loc[9, 'Deaths'] = 0\n",
        "gun_violence.loc[30, 'Deaths'] = 18\n",
        "gun_violence.loc[31, 'Deaths'] = 16\n",
        "gun_violence.loc[32, 'Deaths'] = 17\n",
        "gun_violence.loc[34, 'Deaths'] = 15\n"
      ]
    },
    {
      "cell_type": "markdown",
      "metadata": {
        "id": "MKLcakQSpfJa"
      },
      "source": [
        "Creating a feature of population percentage of death related to gun violence for each state in a new column \"Gun deaths\""
      ]
    },
    {
      "cell_type": "code",
      "execution_count": 275,
      "metadata": {
        "id": "iwApsUKiPrFP"
      },
      "outputs": [],
      "source": [
        "gun_violence['Deaths'] = gun_violence['Deaths'].astype(int)\n",
        "gun_violence['Population'] = gun_violence['Population'].astype(int)\n",
        "gun_violence['Gun deaths'] = gun_violence['Deaths']/gun_violence['Population']*100"
      ]
    },
    {
      "cell_type": "markdown",
      "metadata": {
        "id": "HWWWhcotpwqX"
      },
      "source": [
        "Merging both dataframes on 'State Name' and 'state'"
      ]
    },
    {
      "cell_type": "code",
      "execution_count": 276,
      "metadata": {
        "id": "Az68okyv1zN5"
      },
      "outputs": [],
      "source": [
        "q1 = pd.merge(gun_violence, gunlaws, left_on='State Name', right_on='state')"
      ]
    },
    {
      "cell_type": "markdown",
      "metadata": {
        "id": "Va56fueBgITh"
      },
      "source": [
        "Min Max scaling the 'Gun deaths' to make the metric comparable between the states with different population"
      ]
    },
    {
      "cell_type": "code",
      "execution_count": 277,
      "metadata": {
        "id": "kHFEpm3qz98x"
      },
      "outputs": [],
      "source": [
        "scaler = MinMaxScaler()\n",
        "\n",
        "# selecting column\n",
        "gun_deaths = q1[['Gun deaths']]\n",
        "\n",
        "# fit and transform the data\n",
        "scaled_gun_deaths = scaler.fit_transform(gun_deaths)\n",
        "\n",
        "# replacing'Gun deaths' with the scaled values\n",
        "q1['Gun deaths'] = scaled_gun_deaths\n"
      ]
    },
    {
      "cell_type": "markdown",
      "metadata": {
        "id": "yf-uM1OWkPIW"
      },
      "source": [
        "Plot to visualize the rate of gun deaths across states"
      ]
    },
    {
      "cell_type": "code",
      "execution_count": 278,
      "metadata": {
        "colab": {
          "base_uri": "https://localhost:8080/",
          "height": 628
        },
        "id": "Nmm_M3nZgT8L",
        "outputId": "12f7b305-c573-4943-ca24-459822fcb1be"
      },
      "outputs": [
        {
          "output_type": "display_data",
          "data": {
            "text/plain": [
              "<Figure size 1500x600 with 1 Axes>"
            ],
            "image/png": "[encoded data removed]"
          },
          "metadata": {}
        }
      ],
      "source": [
        "sorted = q1.groupby('State Name')['Gun deaths'].sum().reset_index()\n",
        "\n",
        "# sorting the gun deaths by state\n",
        "sorted = sorted.sort_values(by='Gun deaths', ascending=False)\n",
        "plt.figure(figsize=(15, 6))\n",
        "\n",
        "# bar plot\n",
        "plt.bar(sorted['State Name'], sorted['Gun deaths'])\n",
        "\n",
        "\n",
        "plt.xlabel('State', fontsize=12)\n",
        "plt.ylabel('Gun Deaths Rate')\n",
        "plt.title('Total Gun Deaths Rate by State')\n",
        "\n",
        "# Rotating the x-values\n",
        "plt.xticks(rotation=90)\n",
        "plt.xticks(fontsize=8)\n",
        "plt.show()\n"
      ]
    },
    {
      "cell_type": "markdown",
      "metadata": {
        "id": "XzsrOTQImUQU"
      },
      "source": [
        "#### From the graph we can tell that Mississippi has the highest gun related deaths in the US."
      ]
    },
    {
      "cell_type": "markdown",
      "metadata": {
        "id": "0ivQweFQmkhO"
      },
      "source": [
        "Change the values in the 'year' column of q1 to dummy variables"
      ]
    },
    {
      "cell_type": "code",
      "execution_count": 279,
      "metadata": {
        "id": "EgZc-oil-w4n"
      },
      "outputs": [],
      "source": [
        "year_dummies = pd.get_dummies(q1['year'], prefix='year')\n",
        "# state_dummies = pd.get_dummies(merged_df['state'], prefix='state')\n",
        "\n",
        "# # concatenate the dummy variables with the original merged_df\n",
        "q1 = pd.concat([q1, year_dummies], axis=1)\n",
        "q1 = q1.drop(['State Name','year', 'state'], axis=1)"
      ]
    },
    {
      "cell_type": "markdown",
      "metadata": {
        "id": "wHFVRQ8Em9pB"
      },
      "source": [
        "Check on the duplicates in q1"
      ]
    },
    {
      "cell_type": "code",
      "execution_count": 280,
      "metadata": {
        "colab": {
          "base_uri": "https://localhost:8080/"
        },
        "id": "23KRNufMDUte",
        "outputId": "6b8e7d77-ab25-4201-b350-81bb7b4524c6"
      },
      "outputs": [
        {
          "output_type": "stream",
          "name": "stdout",
          "text": [
            "False    1500\n",
            "dtype: int64\n"
          ]
        }
      ],
      "source": [
        "print(q1.duplicated().value_counts())"
      ]
    },
    {
      "cell_type": "markdown",
      "metadata": {
        "id": "Zg3b_yZ0nQdX"
      },
      "source": [
        "Separate the dataset into X and y, where the target variable will be the Gun death. Then split the X and y into training and testing datasets with a 80-20 ratio, and a random state of 42. Build a Ridge model, fit the training dataset and print out the R2 score and the mse."
      ]
    },
    {
      "cell_type": "markdown",
      "metadata": {
        "id": "2Ko3MRY7VNY0"
      },
      "source": [
        "Test train split"
      ]
    },
    {
      "cell_type": "code",
      "execution_count": 281,
      "metadata": {
        "id": "zVzyNWkoVOtQ"
      },
      "outputs": [],
      "source": [
        "X = q1.drop('Gun deaths', axis=1)\n",
        "y = q1['Gun deaths']\n",
        "\n",
        "# split the data \n",
        "X_train, X_test, y_train, y_test = train_test_split(X, y, test_size=0.2, random_state=42)\n"
      ]
    },
    {
      "cell_type": "markdown",
      "metadata": {
        "id": "60r2Rtz1ToSL"
      },
      "source": [
        "## Model Training and Selection"
      ]
    },
    {
      "cell_type": "markdown",
      "metadata": {
        "id": "TKQfUWYZLr7b"
      },
      "source": [
        "#### Model 1. Ridge Regression"
      ]
    },
    {
      "cell_type": "code",
      "execution_count": 282,
      "metadata": {
        "colab": {
          "base_uri": "https://localhost:8080/"
        },
        "id": "qjwHV2BBwaWP",
        "outputId": "4f67ff18-cb14-4942-f300-66583948702e"
      },
      "outputs": [
        {
          "output_type": "stream",
          "name": "stdout",
          "text": [
            "For Ridge\n",
            "\n",
            "Training R-squared: 0.9522981981945836\n",
            "Testing R-squared: 0.9432063545724512\n",
            "MSE train: 0.0022149678306054425\n",
            "MSE test: 0.002837546415545954\n"
          ]
        }
      ],
      "source": [
        "# Defining the model\n",
        "ridge = Ridge()\n",
        "\n",
        "# Fitting the model\n",
        "ridge.fit(X_train, y_train)\n",
        "\n",
        "\n",
        "# Evaluating the model using R2 score and MSE\n",
        "print(\"For Ridge\")\n",
        "print()\n",
        "print(\"Training R-squared:\", ridge.score(X_train,y_train))\n",
        "print(\"Testing R-squared:\", ridge.score(X_test,y_test))\n",
        "mse_train = mean_squared_error(y_train,ridge.predict(X_train))\n",
        "mse_test = mean_squared_error(y_test,ridge.predict(X_test))\n",
        "print(\"MSE train:\", mse_train)\n",
        "print(\"MSE test:\", mse_test)"
      ]
    },
    {
      "cell_type": "markdown",
      "metadata": {
        "id": "3y9jCYhsLr7b"
      },
      "source": [
        "A R2 score of 0.94320635 and a mean squared error of 0.00283755 means that our Ridge model performs pretty good."
      ]
    },
    {
      "cell_type": "markdown",
      "metadata": {
        "id": "SaSE3gLULr7b"
      },
      "source": [
        "#### Model 2. Lasso Regression"
      ]
    },
    {
      "cell_type": "code",
      "execution_count": 283,
      "metadata": {
        "colab": {
          "base_uri": "https://localhost:8080/"
        },
        "id": "8cJMxN27Lr7c",
        "outputId": "0f31946d-2332-48a4-b14b-5794ec1b0ba2"
      },
      "outputs": [
        {
          "output_type": "stream",
          "name": "stdout",
          "text": [
            "For Lasso\n",
            "\n",
            "Training R-squared: 0.6781584489423811\n",
            "Testing R-squared: 0.6925490577793256\n",
            "MSE train: 0.014944271603255063\n",
            "MSE test: 0.015360984710295119\n"
          ]
        }
      ],
      "source": [
        "# Defining the model\n",
        "model_lasso = Lasso()\n",
        "\n",
        "# Fitting the model\n",
        "model_lasso.fit(X_train, y_train)\n",
        "\n",
        "\n",
        "# Evaluating the model using R2 score and MSE\n",
        "print(\"For Lasso\")\n",
        "print()\n",
        "print(\"Training R-squared:\", model_lasso.score(X_train,y_train))\n",
        "print(\"Testing R-squared:\", model_lasso.score(X_test,y_test))\n",
        "mse_train = mean_squared_error(y_train,model_lasso.predict(X_train))\n",
        "mse_test = mean_squared_error(y_test,model_lasso.predict(X_test))\n",
        "print(\"MSE train:\", mse_train)\n",
        "print(\"MSE test:\", mse_test)"
      ]
    },
    {
      "cell_type": "markdown",
      "metadata": {
        "id": "RCcmjH36Lr7c"
      },
      "source": [
        "The Lasso model performs worse than the Ridge model."
      ]
    },
    {
      "cell_type": "markdown",
      "metadata": {
        "id": "dMWWxz8LT6-B"
      },
      "source": [
        "#### Model 3. ElasticNet"
      ]
    },
    {
      "cell_type": "code",
      "execution_count": 284,
      "metadata": {
        "colab": {
          "base_uri": "https://localhost:8080/"
        },
        "id": "De4dgHlET6-D",
        "outputId": "a576c626-ff3a-44ab-db70-9796837c18a9"
      },
      "outputs": [
        {
          "output_type": "stream",
          "name": "stdout",
          "text": [
            "For ElasticNet\n",
            "\n",
            "Training R-squared: 0.6786112736296177\n",
            "Testing R-squared: 0.6928328618387951\n",
            "MSE train: 0.014923245309128384\n",
            "MSE test: 0.0153468051804269\n"
          ]
        }
      ],
      "source": [
        "elastic = ElasticNet()\n",
        "elastic.fit(X_train, y_train)\n",
        "\n",
        "# Evaluating the model using R2 score and MSE\n",
        "print(\"For ElasticNet\")\n",
        "print()\n",
        "print(\"Training R-squared:\", elastic.score(X_train,y_train))\n",
        "print(\"Testing R-squared:\", elastic.score(X_test,y_test))\n",
        "mse_train = mean_squared_error(y_train,elastic.predict(X_train))\n",
        "mse_test = mean_squared_error(y_test,elastic.predict(X_test))\n",
        "print(\"MSE train:\", mse_train)\n",
        "print(\"MSE test:\", mse_test)"
      ]
    },
    {
      "cell_type": "markdown",
      "metadata": {
        "id": "UaFxqoojYfaB"
      },
      "source": [
        "ElasticNet is poor too"
      ]
    },
    {
      "cell_type": "markdown",
      "metadata": {
        "id": "7plih8FSLr7c"
      },
      "source": [
        "#### Model 4. Linear Regression"
      ]
    },
    {
      "cell_type": "code",
      "execution_count": 285,
      "metadata": {
        "colab": {
          "base_uri": "https://localhost:8080/"
        },
        "id": "zNArsjiWLr7c",
        "outputId": "4d5ca1b5-62df-4118-dc37-041ef9afc9af"
      },
      "outputs": [
        {
          "output_type": "stream",
          "name": "stdout",
          "text": [
            "For Linear Regression\n",
            "\n",
            "Training R-squared: 0.9570227076052755\n",
            "Testing R-squared: 0.9353640332573007\n",
            "MSE train: 0.001995591707188507\n",
            "MSE test: 0.003229367552749634\n"
          ]
        }
      ],
      "source": [
        "model = LinearRegression()\n",
        "model.fit(X_train, y_train)\n",
        "\n",
        "# Evaluating the model using R2 score and MSE\n",
        "print(\"For Linear Regression\")\n",
        "print()\n",
        "print(\"Training R-squared:\", model.score(X_train,y_train))\n",
        "print(\"Testing R-squared:\", model.score(X_test,y_test))\n",
        "mse_train = mean_squared_error(y_train,model.predict(X_train))\n",
        "mse_test = mean_squared_error(y_test,model.predict(X_test))\n",
        "print(\"MSE train:\", mse_train)\n",
        "print(\"MSE test:\", mse_test)"
      ]
    },
    {
      "cell_type": "markdown",
      "metadata": {
        "id": "QVo6sGmBLr7c"
      },
      "source": [
        "### We see that Linear Regression performs the best among all the 4 models we have trained with the highest R-squared value so we are going to choose that for our inference.\n"
      ]
    },
    {
      "cell_type": "markdown",
      "metadata": {
        "id": "Gndd12x9oVZ3"
      },
      "source": [
        "Print out the top five features that have the most positive coefficients and the top five features that have the most negative coefficients."
      ]
    },
    {
      "cell_type": "code",
      "execution_count": 286,
      "metadata": {
        "colab": {
          "base_uri": "https://localhost:8080/"
        },
        "id": "D1BCWJIv37se",
        "outputId": "5564cb18-33a5-421e-e0eb-bd6343caa58d"
      },
      "outputs": [
        {
          "output_type": "stream",
          "name": "stdout",
          "text": [
            "            feature      coef\n",
            "19        reportall  0.302555\n",
            "70         magazine  0.273916\n",
            "68  assaultregister  0.273909\n",
            "36    registrationh  0.267534\n",
            "38      defactoregh  0.248420\n",
            "\n",
            "              feature      coef\n",
            "113  preemptionnarrow -0.267578\n",
            "20         reportallh -0.264842\n",
            "55    universalpermit -0.255371\n",
            "35       registration -0.252757\n",
            "11           violenth -0.233533\n"
          ]
        }
      ],
      "source": [
        "coef = pd.DataFrame({'feature': list(X.columns), 'coef': model.coef_})\n",
        "\n",
        "# print top 5 coefficients\n",
        "top_positive_coef = coef.sort_values('coef', ascending=False).head(5)\n",
        "print(top_positive_coef)\n",
        "print()\n",
        "top_negative_coef = coef.sort_values('coef', ascending=True).head(5)\n",
        "print(top_negative_coef)"
      ]
    },
    {
      "cell_type": "markdown",
      "metadata": {
        "id": "_x4eUX-SpSRI"
      },
      "source": [
        "Plot those variables with coefficients on a barchart"
      ]
    },
    {
      "cell_type": "code",
      "execution_count": 287,
      "metadata": {
        "colab": {
          "base_uri": "https://localhost:8080/",
          "height": 562
        },
        "id": "qeVB0lo5waTw",
        "outputId": "f6ede550-2494-4331-8d67-56110c9a3e1f"
      },
      "outputs": [
        {
          "output_type": "display_data",
          "data": {
            "text/plain": [
              "<Figure size 1400x600 with 2 Axes>"
            ],
            "image/png": "[encoded data removed]"
          },
          "metadata": {}
        }
      ],
      "source": [
        "\n",
        "fig, ax = plt.subplots(nrows=1, ncols=2, figsize=(14, 6))\n",
        "\n",
        "# first plot \n",
        "ax[0].barh(top_positive_coef['feature'], top_positive_coef['coef'],color='red')\n",
        "ax[0].set_xlabel('Coefficient Value')\n",
        "ax[0].set_title('Top 5 laws that contribute to the gun related deaths')\n",
        "\n",
        "# second plot \n",
        "ax[1].barh(top_negative_coef['feature'], top_negative_coef['coef'],color='green')\n",
        "ax[1].set_xlabel('Coefficient Value')\n",
        "ax[1].set_title('Top 5 laws that decrease the gun related deaths')\n",
        "\n",
        "# spacing between plots\n",
        "plt.subplots_adjust(wspace=0.4)\n",
        "\n",
        "# Show the plot\n",
        "plt.show()"
      ]
    },
    {
      "cell_type": "markdown",
      "metadata": {
        "id": "isoKhwnx3e3e"
      },
      "source": [
        "### Q1 : What state level firearm-restrictive laws have the highest effect on preventing homicide? \n",
        "\n",
        "### Answer: Following restrictive laws have the highest positive correlation to the gun related deaths\n",
        "\n",
        "\n",
        "*   defactoregh - De facto registration of handguns is in place because of a recordkeeping requirement for all handgun sales\n",
        "*   registrationh - Gun owners must register their handguns with the state\n",
        "*   assaultregister - Grandfathered weapons must be registered\n",
        "*   magazine - Ban on sale large capacity magazines beyond just ammunition for pistols\n",
        "*   reportall - All private sellers and licensced dealers are required to report all fireamrs sales record to the states\n",
        "\n",
        "###Following restrictive laws have the highest negative correlation to the gun related deaths\n",
        "\n",
        "*   violenth - Handgun possession is prohibited for people who have committed a violent misdemeanor \n",
        "*   registration - gunowners must register their firearms with the state \n",
        "*   universalpermit - background checks conducted through permit requirement for all firearm sells\n",
        "*   reportallh - All private sellers and licensed dealers are required to report handguns sales record to the state\n",
        "*   preemptionnarrow - Any state law that preempts local regulation of firearms is narrow in its scope (i.e., in one area of regulation)\n",
        "\n",
        "\n",
        "\n",
        "\n"
      ]
    },
    {
      "cell_type": "markdown",
      "metadata": {
        "id": "wN9eW4BxDEPX"
      },
      "source": [
        "# Question 2\n",
        "\n",
        "## Based on the severity of the attack, can we predict which type of gun is most likely to be used in a school shooting?\n"
      ]
    },
    {
      "cell_type": "markdown",
      "metadata": {
        "id": "81HUH2FHoc8H"
      },
      "source": [
        "### Data Loading for Q2"
      ]
    },
    {
      "cell_type": "markdown",
      "metadata": {
        "id": "z5lCAGKCfP7o"
      },
      "source": [
        "Dataset3: School Shooting Incidence Information\n",
        "\n",
        "Dataset4: School Shooting Weapon Information"
      ]
    },
    {
      "cell_type": "code",
      "execution_count": 288,
      "metadata": {
        "id": "mWd965p_waQ7"
      },
      "outputs": [],
      "source": [
        "#Loading datasets\n",
        "\n",
        "school_shooting = pd.read_csv('New_School_Shooting.csv')\n",
        "school_shooting_weapons = pd.read_csv('School_Shooting_Weapon_Info.csv')"
      ]
    },
    {
      "cell_type": "markdown",
      "metadata": {
        "id": "to8D2_2YphSS"
      },
      "source": [
        "Merging both datasets to get capture the information of guns used in the shootings"
      ]
    },
    {
      "cell_type": "code",
      "execution_count": 289,
      "metadata": {
        "colab": {
          "base_uri": "https://localhost:8080/"
        },
        "id": "Xq0bERAG4fCr",
        "outputId": "5bea6cf5-a3a0-4b36-ac13-956b0186554f"
      },
      "outputs": [
        {
          "output_type": "stream",
          "name": "stdout",
          "text": [
            "(2266, 45)\n"
          ]
        }
      ],
      "source": [
        "school_shooting = pd.merge(school_shooting, school_shooting_weapons, on='Incident_ID')\n",
        "print(school_shooting.shape)"
      ]
    },
    {
      "cell_type": "markdown",
      "metadata": {
        "id": "q7Hllkg6gRM9"
      },
      "source": [
        "## Feature Engineering for Q2"
      ]
    },
    {
      "cell_type": "code",
      "execution_count": 290,
      "metadata": {
        "colab": {
          "base_uri": "https://localhost:8080/"
        },
        "id": "wBZtEDW741sV",
        "outputId": "520e703e-a24c-4739-aceb-029bafad998f"
      },
      "outputs": [
        {
          "output_type": "stream",
          "name": "stdout",
          "text": [
            "All Columns before choosing relevant features\n",
            "Incident_ID              object\n",
            "Month                   float64\n",
            "Day                     float64\n",
            "Year                    float64\n",
            "Date                     object\n",
            "School                   object\n",
            "Victims_Killed          float64\n",
            "Victims_Wounded         float64\n",
            "Number_Victims          float64\n",
            "Shooter_Killed          float64\n",
            "Source                   object\n",
            "Number_News             float64\n",
            "Media_Attention          object\n",
            "Reliability             float64\n",
            "Quarter                  object\n",
            "City                     object\n",
            "State                    object\n",
            "School_Level             object\n",
            "Location                 object\n",
            "Location_Type            object\n",
            "During_School            object\n",
            "Time_Period              object\n",
            "First_Shot               object\n",
            "Duration_min            float64\n",
            "Summary                  object\n",
            "Narrative                object\n",
            "Situation                object\n",
            "Targets                  object\n",
            "Accomplice               object\n",
            "Accomplice_Narrative     object\n",
            "Hostages                 object\n",
            "Barricade                object\n",
            "Officer_Involved         object\n",
            "Bullied                  object\n",
            "Domestic_Violence        object\n",
            "Gang_Related             object\n",
            "Active_Shooter_FBI       object\n",
            "Unnamed: 37             float64\n",
            "Unnamed: 38             float64\n",
            "Unnamed: 39             float64\n",
            "Unnamed: 40             float64\n",
            "Unnamed: 41             float64\n",
            "Weapon_Type              object\n",
            "Weapon_Caliber           object\n",
            "Weapon_Details           object\n",
            "dtype: object\n",
            "\n",
            "Columns after choosing relevant features\n",
            "Number_Victims       float64\n",
            "School_Level          object\n",
            "Targets               object\n",
            "Bullied               object\n",
            "Domestic_Violence     object\n",
            "Gang_Related          object\n",
            "Weapon_Type           object\n",
            "dtype: object\n"
          ]
        }
      ],
      "source": [
        "\n",
        "print('All Columns before choosing relevant features')\n",
        "\n",
        "print(school_shooting.dtypes)\n",
        "\n",
        "#Picking out relevant features\n",
        "relevant_columns = ['Number_Victims','School_Level','Targets','Bullied','Domestic_Violence','Gang_Related','Weapon_Type']\n",
        "school_shooting = school_shooting[relevant_columns]\n",
        "print()\n",
        "print('Columns after choosing relevant features')\n",
        "print(school_shooting.dtypes)"
      ]
    },
    {
      "cell_type": "markdown",
      "metadata": {
        "id": "3Jft0i8DgO3v"
      },
      "source": [
        "The following features were selected as relevant features to build a classification model to predict the type of gun used by a school shooter.\n",
        "\n",
        "\n",
        "*   Year\n",
        "*   State\n",
        "*   Number_Victims: the severity and impact of a shooting may vary depending on the number of victims; the number of victims may be correlated with the type of gun used\n",
        "*   School_Level: this can provide context for the shooting and may impact the types of guns used\n",
        "*   Targets: this can provide information about the motive behind the shooting and may impact the types of guns used\n",
        "*   Bullied: (Bullied by the victim(s) and did not indiscriminately target random students) this can provide information about the motive behind the shooting and may impact the types of guns used\n",
        "*   Domestic_Violence: this can provide information about the motive behind the shooting and may impact the types of guns used\n",
        "*   Gang_Related: this can provide information about the motive behind the shooting and may impact the types of guns used\n",
        "*   Weapon_Type: the type of gun used in the shooting is likely to be one of the most important features for predicting the type of gun used in future shootings\n",
        "\n",
        "\n",
        "\n",
        "\n",
        "\n",
        "\n",
        "\n",
        "\n",
        "\n",
        "\n"
      ]
    },
    {
      "cell_type": "markdown",
      "metadata": {
        "id": "pyc5IdU2FHdD"
      },
      "source": [
        "Data Processing\n",
        "\n",
        "1. Changing categorizing different types of guns in Small, long and Multiple Guns. \n",
        "\n",
        "2. Then imputing the Unknown, Other and \"No Data\" with the mode value of guns. "
      ]
    },
    {
      "cell_type": "code",
      "execution_count": 291,
      "metadata": {
        "colab": {
          "base_uri": "https://localhost:8080/"
        },
        "id": "jWtDFbZb5JWA",
        "outputId": "26c70840-9562-4cac-d305-dcbcfc86e2a3"
      },
      "outputs": [
        {
          "output_type": "stream",
          "name": "stdout",
          "text": [
            "Handgun              1534\n",
            "No Data               230\n",
            "Rifle                 115\n",
            "Other                 110\n",
            "Shotgun                67\n",
            "Multiple Handguns      46\n",
            "Multiple Unknown       27\n",
            "Unknown                24\n",
            "Multiple Rifles         7\n",
            "Name: Weapon_Type, dtype: int64\n",
            "\n",
            "Small Gun    2004\n",
            "Big Gun       262\n",
            "Name: Weapon_Type, dtype: int64\n"
          ]
        }
      ],
      "source": [
        "print(school_shooting['Weapon_Type'].value_counts())\n",
        "\n",
        "school_shooting['Weapon_Type'] = school_shooting['Weapon_Type'].replace({\n",
        "    'Handgun': 'Small Gun',\n",
        "    'Rifle': 'Big Gun',\n",
        "    'Shotgun': 'Big Gun',\n",
        "    'Multiple Handguns': 'Big Gun',\n",
        "    'Multiple Unknown': 'Big Gun',\n",
        "    'Multiple Rifles': 'Big Gun'\n",
        "})\n",
        "\n",
        "#Changing values to NaN so that we can use the fillNa\n",
        "school_shooting['Weapon_Type'].replace(['No Data', 'Unknown','Other'], np.nan, inplace=True) \n",
        "\n",
        "#impute values with mode\n",
        "school_shooting['Weapon_Type'].fillna(school_shooting['Weapon_Type'].mode()[0] , inplace=True)\n",
        "\n",
        "print()\n",
        "print(school_shooting['Weapon_Type'].value_counts())"
      ]
    },
    {
      "cell_type": "markdown",
      "metadata": {
        "id": "18vZliv_bc7i"
      },
      "source": [
        "#### Data Imputation"
      ]
    },
    {
      "cell_type": "code",
      "execution_count": 292,
      "metadata": {
        "colab": {
          "base_uri": "https://localhost:8080/"
        },
        "id": "v-zZfzzzba6l",
        "outputId": "413b6ba1-3f1f-48df-e205-5e4d84f8ed60"
      },
      "outputs": [
        {
          "output_type": "stream",
          "name": "stdout",
          "text": [
            "Number_Victims         0\n",
            "School_Level          23\n",
            "Targets              346\n",
            "Bullied              344\n",
            "Domestic_Violence    163\n",
            "Gang_Related         544\n",
            "Weapon_Type            0\n",
            "dtype: int64\n"
          ]
        }
      ],
      "source": [
        "print(school_shooting.isnull().sum())"
      ]
    },
    {
      "cell_type": "markdown",
      "metadata": {
        "id": "T1J6-tORf8pD"
      },
      "source": [
        "### In this section, we are:\n",
        "\n",
        "* Imputing missing values for each features with mode. We are choosing mode because the features are categorical so the most frequently occuring value would be suitable for filling missing values\n",
        "\n",
        "* Making the values uniform. We converted values like N, NO to No"
      ]
    },
    {
      "cell_type": "code",
      "execution_count": 293,
      "metadata": {
        "id": "4iMEfkEufEKZ"
      },
      "outputs": [],
      "source": [
        "school_shooting['School_Level'].replace(['Unknown'], np.nan, inplace=True) \n",
        "school_shooting['School_Level'].fillna(school_shooting['School_Level'].mode()[0] , inplace=True)\n",
        "\n",
        "school_shooting['Targets'].fillna(school_shooting['Targets'].mode()[0] , inplace=True)\n",
        "\n",
        "school_shooting['Bullied'] = school_shooting['Bullied'].replace({'N': 'No'})\n",
        "school_shooting['Bullied'].fillna(school_shooting['Bullied'].mode()[0] , inplace=True)\n",
        "\n",
        "school_shooting['Domestic_Violence'] = school_shooting['Domestic_Violence'].replace({'NO': 'No'})\n",
        "school_shooting['Domestic_Violence'].fillna(school_shooting['Domestic_Violence'].mode()[0] , inplace=True)\n",
        "\n",
        "school_shooting['Gang_Related'].fillna(school_shooting['Gang_Related'].mode()[0] , inplace=True)\n"
      ]
    },
    {
      "cell_type": "code",
      "execution_count": 294,
      "metadata": {
        "colab": {
          "base_uri": "https://localhost:8080/"
        },
        "id": "XHMJO3NegHwF",
        "outputId": "937baaad-bf15-4475-b833-601af1700016"
      },
      "outputs": [
        {
          "output_type": "stream",
          "name": "stdout",
          "text": [
            "High           1459\n",
            "Elementary      400\n",
            "Middle          222\n",
            "Junior High      67\n",
            "Other            37\n",
            "K-8              34\n",
            "K-12             29\n",
            "6-12             18\n",
            "Name: School_Level, dtype: int64\n",
            "\n",
            "Victims Targeted    1449\n",
            "Random Shooting      324\n",
            "Both                 267\n",
            "Neither              226\n",
            "Name: Targets, dtype: int64\n",
            "\n",
            "No     2169\n",
            "Yes      97\n",
            "Name: Bullied, dtype: int64\n",
            "\n",
            "No     2143\n",
            "Yes     123\n",
            "Name: Domestic_Violence, dtype: int64\n",
            "\n",
            "No     2026\n",
            "Yes     240\n",
            "Name: Gang_Related, dtype: int64\n",
            "\n",
            "Number_Victims       0\n",
            "School_Level         0\n",
            "Targets              0\n",
            "Bullied              0\n",
            "Domestic_Violence    0\n",
            "Gang_Related         0\n",
            "Weapon_Type          0\n",
            "dtype: int64\n"
          ]
        }
      ],
      "source": [
        "print(school_shooting['School_Level'].value_counts())\n",
        "print()\n",
        "print(school_shooting['Targets'].value_counts())\n",
        "print()\n",
        "print(school_shooting['Bullied'].value_counts())\n",
        "print()\n",
        "print(school_shooting['Domestic_Violence'].value_counts())\n",
        "print()\n",
        "print(school_shooting['Gang_Related'].value_counts())\n",
        "print()\n",
        "print(school_shooting.isnull().sum())"
      ]
    },
    {
      "cell_type": "markdown",
      "metadata": {
        "id": "RfRnWB6Dhu_d"
      },
      "source": [
        "### Here, we are recategorizing the features School_Level where we changed:\n",
        " \n",
        "*    'High': 'High',\n",
        "*    'Elementary': 'Elementary',\n",
        "*    'Middle': 'Middle',\n",
        "*    'Junior High': 'Middle',\n",
        "*    'Other': np.nan,\n",
        "*    'K-8': 'Elementary',\n",
        "*    'K-12': 'High',\n",
        "*    '6-12': 'High'\n",
        "\n",
        "Doing this improved the precision of our minority class"
      ]
    },
    {
      "cell_type": "code",
      "execution_count": 295,
      "metadata": {
        "id": "jsIwCHPLCkCA"
      },
      "outputs": [],
      "source": [
        "#Recategoriziing the school \n",
        "\n",
        "school_shooting['School_Level'] = school_shooting['School_Level'].replace({\n",
        "    'High': 'High',\n",
        "    'Elementary': 'Elementary',\n",
        "    'Middle': 'Middle',\n",
        "    'Junior High': 'Middle',\n",
        "    'Other': np.nan,\n",
        "    'K-8': 'Elementary',\n",
        "    'K-12': 'High',\n",
        "    '6-12': 'High'\n",
        "})\n",
        "mode = school_shooting['School_Level'].mode()[0]\n",
        "school_shooting['School_Level'] = school_shooting['School_Level'].fillna(mode)"
      ]
    },
    {
      "cell_type": "code",
      "execution_count": 296,
      "metadata": {
        "colab": {
          "base_uri": "https://localhost:8080/",
          "height": 601
        },
        "id": "Uh6T9Kdzg6pn",
        "outputId": "e7b7a84b-5b84-4f68-9d80-e37ba9d39064"
      },
      "outputs": [
        {
          "output_type": "display_data",
          "data": {
            "text/plain": [
              "<Figure size 1200x600 with 2 Axes>"
            ],
            "image/png": "[encoded data removed]"
          },
          "metadata": {}
        }
      ],
      "source": [
        "fig, axs = plt.subplots(1, 2, figsize=(12, 6))\n",
        "\n",
        "# First subplot\n",
        "axs[0].bar(school_shooting['School_Level'].value_counts().index, school_shooting['School_Level'].value_counts().values)\n",
        "axs[0].set_title('School Type Affected')\n",
        "axs[0].set_xlabel('School Type')\n",
        "axs[0].set_ylabel('Count')\n",
        "axs[0].tick_params(axis='x', labelrotation=45, labelsize=10)\n",
        "\n",
        "# Second subplot \n",
        "axs[1].hist(school_shooting['Weapon_Type'], bins=10)\n",
        "axs[1].set_title('Gun Used')\n",
        "axs[1].set_xlabel('Weapon Type')\n",
        "axs[1].set_ylabel('Count')\n",
        "\n",
        "plt.tight_layout()\n",
        "plt.show()\n"
      ]
    },
    {
      "cell_type": "markdown",
      "metadata": {
        "id": "F07TWSR_XnUA"
      },
      "source": [
        "The graphs shows that High School is affected the most and smaller guns are used the most. There is an imbalance in the target class of weapon type that we will work on"
      ]
    },
    {
      "cell_type": "markdown",
      "metadata": {
        "id": "U3UwioWUhR5B"
      },
      "source": [
        "### Encoding our categorical data "
      ]
    },
    {
      "cell_type": "markdown",
      "metadata": {
        "id": "0Ac9HmMzirmG"
      },
      "source": [
        "Making our target variable numberical to avoid it getting Encoded"
      ]
    },
    {
      "cell_type": "code",
      "execution_count": 297,
      "metadata": {
        "id": "bvUgbG9eLr7f"
      },
      "outputs": [],
      "source": [
        "school_shooting['Weapon_Type'] = school_shooting['Weapon_Type'].replace({\n",
        "    'Small Gun': 0,\n",
        "    'Big Gun': 1\n",
        "})"
      ]
    },
    {
      "cell_type": "code",
      "execution_count": 298,
      "metadata": {
        "colab": {
          "base_uri": "https://localhost:8080/",
          "height": 267
        },
        "id": "uK86yRHLhVwq",
        "outputId": "a86f913f-2746-46e2-ff5e-824ccf842f64"
      },
      "outputs": [
        {
          "output_type": "execute_result",
          "data": {
            "text/plain": [
              "   Number_Victims  Weapon_Type  School_Level_High  School_Level_Middle  \\\n",
              "0             1.0            0                  0                    0   \n",
              "1             3.0            0                  1                    0   \n",
              "2             0.0            0                  1                    0   \n",
              "3             1.0            0                  1                    0   \n",
              "4             0.0            0                  0                    1   \n",
              "\n",
              "   Targets_Neither  Targets_Random Shooting  Targets_Victims Targeted  \\\n",
              "0                0                        0                         1   \n",
              "1                0                        0                         0   \n",
              "2                0                        0                         1   \n",
              "3                0                        0                         1   \n",
              "4                0                        0                         1   \n",
              "\n",
              "   Bullied_Yes  Domestic_Violence_Yes  Gang_Related_Yes  \n",
              "0            0                      0                 0  \n",
              "1            0                      0                 0  \n",
              "2            0                      0                 0  \n",
              "3            0                      0                 0  \n",
              "4            0                      0                 0  "
            ],
            "text/html": [
              "\n",
              "  <div id=\"df-0e4dcc06-e2ed-44c0-add0-7392e93e56c2\">\n",
              "    <div class=\"colab-df-container\">\n",
              "      <div>\n",
              "<style scoped>\n",
              "    .dataframe tbody tr th:only-of-type {\n",
              "        vertical-align: middle;\n",
              "    }\n",
              "\n",
              "    .dataframe tbody tr th {\n",
              "        vertical-align: top;\n",
              "    }\n",
              "\n",
              "    .dataframe thead th {\n",
              "        text-align: right;\n",
              "    }\n",
              "</style>\n",
              "<table border=\"1\" class=\"dataframe\">\n",
              "  <thead>\n",
              "    <tr style=\"text-align: right;\">\n",
              "      <th></th>\n",
              "      <th>Number_Victims</th>\n",
              "      <th>Weapon_Type</th>\n",
              "      <th>School_Level_High</th>\n",
              "      <th>School_Level_Middle</th>\n",
              "      <th>Targets_Neither</th>\n",
              "      <th>Targets_Random Shooting</th>\n",
              "      <th>Targets_Victims Targeted</th>\n",
              "      <th>Bullied_Yes</th>\n",
              "      <th>Domestic_Violence_Yes</th>\n",
              "      <th>Gang_Related_Yes</th>\n",
              "    </tr>\n",
              "  </thead>\n",
              "  <tbody>\n",
              "    <tr>\n",
              "      <th>0</th>\n",
              "      <td>1.0</td>\n",
              "      <td>0</td>\n",
              "      <td>0</td>\n",
              "      <td>0</td>\n",
              "      <td>0</td>\n",
              "      <td>0</td>\n",
              "      <td>1</td>\n",
              "      <td>0</td>\n",
              "      <td>0</td>\n",
              "      <td>0</td>\n",
              "    </tr>\n",
              "    <tr>\n",
              "      <th>1</th>\n",
              "      <td>3.0</td>\n",
              "      <td>0</td>\n",
              "      <td>1</td>\n",
              "      <td>0</td>\n",
              "      <td>0</td>\n",
              "      <td>0</td>\n",
              "      <td>0</td>\n",
              "      <td>0</td>\n",
              "      <td>0</td>\n",
              "      <td>0</td>\n",
              "    </tr>\n",
              "    <tr>\n",
              "      <th>2</th>\n",
              "      <td>0.0</td>\n",
              "      <td>0</td>\n",
              "      <td>1</td>\n",
              "      <td>0</td>\n",
              "      <td>0</td>\n",
              "      <td>0</td>\n",
              "      <td>1</td>\n",
              "      <td>0</td>\n",
              "      <td>0</td>\n",
              "      <td>0</td>\n",
              "    </tr>\n",
              "    <tr>\n",
              "      <th>3</th>\n",
              "      <td>1.0</td>\n",
              "      <td>0</td>\n",
              "      <td>1</td>\n",
              "      <td>0</td>\n",
              "      <td>0</td>\n",
              "      <td>0</td>\n",
              "      <td>1</td>\n",
              "      <td>0</td>\n",
              "      <td>0</td>\n",
              "      <td>0</td>\n",
              "    </tr>\n",
              "    <tr>\n",
              "      <th>4</th>\n",
              "      <td>0.0</td>\n",
              "      <td>0</td>\n",
              "      <td>0</td>\n",
              "      <td>1</td>\n",
              "      <td>0</td>\n",
              "      <td>0</td>\n",
              "      <td>1</td>\n",
              "      <td>0</td>\n",
              "      <td>0</td>\n",
              "      <td>0</td>\n",
              "    </tr>\n",
              "  </tbody>\n",
              "</table>\n",
              "</div>\n",
              "      <button class=\"colab-df-convert\" onclick=\"convertToInteractive('df-0e4dcc06-e2ed-44c0-add0-7392e93e56c2')\"\n",
              "              title=\"Convert this dataframe to an interactive table.\"\n",
              "              style=\"display:none;\">\n",
              "        \n",
              "  <svg xmlns=\"http://www.w3.org/2000/svg\" height=\"24px\"viewBox=\"0 0 24 24\"\n",
              "       width=\"24px\">\n",
              "    <path d=\"M0 0h24v24H0V0z\" fill=\"none\"/>\n",
              "    <path d=\"M18.56 5.44l.94 2.06.94-2.06 2.06-.94-2.06-.94-.94-2.06-.94 2.06-2.06.94zm-11 1L8.5 8.5l.94-2.06 2.06-.94-2.06-.94L8.5 2.5l-.94 2.06-2.06.94zm10 10l.94 2.06.94-2.06 2.06-.94-2.06-.94-.94-2.06-.94 2.06-2.06.94z\"/><path d=\"M17.41 7.96l-1.37-1.37c-.4-.4-.92-.59-1.43-.59-.52 0-1.04.2-1.43.59L10.3 9.45l-7.72 7.72c-.78.78-.78 2.05 0 2.83L4 21.41c.39.39.9.59 1.41.59.51 0 1.02-.2 1.41-.59l7.78-7.78 2.81-2.81c.8-.78.8-2.07 0-2.86zM5.41 20L4 18.59l7.72-7.72 1.47 1.35L5.41 20z\"/>\n",
              "  </svg>\n",
              "      </button>\n",
              "      \n",
              "  <style>\n",
              "    .colab-df-container {\n",
              "      display:flex;\n",
              "      flex-wrap:wrap;\n",
              "      gap: 12px;\n",
              "    }\n",
              "\n",
              "    .colab-df-convert {\n",
              "      background-color: #E8F0FE;\n",
              "      border: none;\n",
              "      border-radius: 50%;\n",
              "      cursor: pointer;\n",
              "      display: none;\n",
              "      fill: #1967D2;\n",
              "      height: 32px;\n",
              "      padding: 0 0 0 0;\n",
              "      width: 32px;\n",
              "    }\n",
              "\n",
              "    .colab-df-convert:hover {\n",
              "      background-color: #E2EBFA;\n",
              "      box-shadow: 0px 1px 2px rgba(60, 64, 67, 0.3), 0px 1px 3px 1px rgba(60, 64, 67, 0.15);\n",
              "      fill: #174EA6;\n",
              "    }\n",
              "\n",
              "    [theme=dark] .colab-df-convert {\n",
              "      background-color: #3B4455;\n",
              "      fill: #D2E3FC;\n",
              "    }\n",
              "\n",
              "    [theme=dark] .colab-df-convert:hover {\n",
              "      background-color: #434B5C;\n",
              "      box-shadow: 0px 1px 3px 1px rgba(0, 0, 0, 0.15);\n",
              "      filter: drop-shadow(0px 1px 2px rgba(0, 0, 0, 0.3));\n",
              "      fill: #FFFFFF;\n",
              "    }\n",
              "  </style>\n",
              "\n",
              "      <script>\n",
              "        const buttonEl =\n",
              "          document.querySelector('#df-0e4dcc06-e2ed-44c0-add0-7392e93e56c2 button.colab-df-convert');\n",
              "        buttonEl.style.display =\n",
              "          google.colab.kernel.accessAllowed ? 'block' : 'none';\n",
              "\n",
              "        async function convertToInteractive(key) {\n",
              "          const element = document.querySelector('#df-0e4dcc06-e2ed-44c0-add0-7392e93e56c2');\n",
              "          const dataTable =\n",
              "            await google.colab.kernel.invokeFunction('convertToInteractive',\n",
              "                                                     [key], {});\n",
              "          if (!dataTable) return;\n",
              "\n",
              "          const docLinkHtml = 'Like what you see? Visit the ' +\n",
              "            '<a target=\"_blank\" href=https://colab.research.google.com/notebooks/data_table.ipynb>data table notebook</a>'\n",
              "            + ' to learn more about interactive tables.';\n",
              "          element.innerHTML = '';\n",
              "          dataTable['output_type'] = 'display_data';\n",
              "          await google.colab.output.renderOutput(dataTable, element);\n",
              "          const docLink = document.createElement('div');\n",
              "          docLink.innerHTML = docLinkHtml;\n",
              "          element.appendChild(docLink);\n",
              "        }\n",
              "      </script>\n",
              "    </div>\n",
              "  </div>\n",
              "  "
            ]
          },
          "metadata": {},
          "execution_count": 298
        }
      ],
      "source": [
        "school_shooting = pd.get_dummies(school_shooting, drop_first = True)\n",
        "school_shooting.head()\n"
      ]
    },
    {
      "cell_type": "markdown",
      "metadata": {
        "id": "gf0p7MvUi2B3"
      },
      "source": [
        "### Standard scaling Number of Victims because the value variation is high, scaling it made the performance better"
      ]
    },
    {
      "cell_type": "code",
      "execution_count": 299,
      "metadata": {
        "colab": {
          "base_uri": "https://localhost:8080/",
          "height": 596
        },
        "id": "84N3ZZ3zLr7f",
        "outputId": "903d6b36-51b9-49e6-ec9d-748703a4aff7"
      },
      "outputs": [
        {
          "output_type": "display_data",
          "data": {
            "text/plain": [
              "<Figure size 1000x700 with 1 Axes>"
            ],
            "image/png": "[encoded data removed]"
          },
          "metadata": {}
        }
      ],
      "source": [
        "#Creating the dataframe for pie chart\n",
        "values = school_shooting['Number_Victims'].value_counts()\n",
        "top = values[:2]\n",
        "other = values[2:].sum()\n",
        "plot_data = top.append(pd.Series([other]))\n",
        "\n",
        "# labels\n",
        "labels = [\"0 victims\", \"1 victim\", \"2 victims\",  \"Multiple\"]\n",
        "\n",
        "# Plot \n",
        "fig = plt.figure(figsize=(10, 7))\n",
        "plt.pie(plot_data, labels=labels, autopct=\"%1.1f%%\")\n",
        "plt.title(\"Number of Victims\")\n",
        "plt.show()"
      ]
    },
    {
      "cell_type": "markdown",
      "metadata": {
        "id": "o-hBlKKfknN_"
      },
      "source": [
        "We see that there are lots variation in the number of victims"
      ]
    },
    {
      "cell_type": "markdown",
      "metadata": {
        "id": "Lq_Wkw1b500o"
      },
      "source": [
        "There are differences between the column with real values as seen from the above visualizations, and it would be a good idea to scale them before doing any modeling. Applying standard scaler"
      ]
    },
    {
      "cell_type": "code",
      "execution_count": 300,
      "metadata": {
        "colab": {
          "base_uri": "https://localhost:8080/",
          "height": 287
        },
        "id": "yfiw5JCHLr7g",
        "outputId": "3cb1ef55-61fb-4da9-b66f-39fb7d8bf3c8"
      },
      "outputs": [
        {
          "output_type": "execute_result",
          "data": {
            "text/plain": [
              "      Number_Victims  Weapon_Type  School_Level_High  School_Level_Middle  \\\n",
              "2261        0.207773            0                  1                    0   \n",
              "2262       -0.113821            0                  1                    0   \n",
              "2263       -0.435414            0                  1                    0   \n",
              "2264       -0.113821            0                  0                    1   \n",
              "2265       -0.113821            0                  1                    0   \n",
              "\n",
              "      Targets_Neither  Targets_Random Shooting  Targets_Victims Targeted  \\\n",
              "2261                1                        0                         0   \n",
              "2262                0                        0                         1   \n",
              "2263                0                        0                         1   \n",
              "2264                0                        1                         0   \n",
              "2265                0                        1                         0   \n",
              "\n",
              "      Bullied_Yes  Domestic_Violence_Yes  Gang_Related_Yes  \n",
              "2261            0                      0                 0  \n",
              "2262            0                      0                 0  \n",
              "2263            0                      0                 0  \n",
              "2264            0                      0                 0  \n",
              "2265            0                      0                 0  "
            ],
            "text/html": [
              "\n",
              "  <div id=\"df-f8b15dd8-c43b-42b1-a4b3-a5ff77479a3b\">\n",
              "    <div class=\"colab-df-container\">\n",
              "      <div>\n",
              "<style scoped>\n",
              "    .dataframe tbody tr th:only-of-type {\n",
              "        vertical-align: middle;\n",
              "    }\n",
              "\n",
              "    .dataframe tbody tr th {\n",
              "        vertical-align: top;\n",
              "    }\n",
              "\n",
              "    .dataframe thead th {\n",
              "        text-align: right;\n",
              "    }\n",
              "</style>\n",
              "<table border=\"1\" class=\"dataframe\">\n",
              "  <thead>\n",
              "    <tr style=\"text-align: right;\">\n",
              "      <th></th>\n",
              "      <th>Number_Victims</th>\n",
              "      <th>Weapon_Type</th>\n",
              "      <th>School_Level_High</th>\n",
              "      <th>School_Level_Middle</th>\n",
              "      <th>Targets_Neither</th>\n",
              "      <th>Targets_Random Shooting</th>\n",
              "      <th>Targets_Victims Targeted</th>\n",
              "      <th>Bullied_Yes</th>\n",
              "      <th>Domestic_Violence_Yes</th>\n",
              "      <th>Gang_Related_Yes</th>\n",
              "    </tr>\n",
              "  </thead>\n",
              "  <tbody>\n",
              "    <tr>\n",
              "      <th>2261</th>\n",
              "      <td>0.207773</td>\n",
              "      <td>0</td>\n",
              "      <td>1</td>\n",
              "      <td>0</td>\n",
              "      <td>1</td>\n",
              "      <td>0</td>\n",
              "      <td>0</td>\n",
              "      <td>0</td>\n",
              "      <td>0</td>\n",
              "      <td>0</td>\n",
              "    </tr>\n",
              "    <tr>\n",
              "      <th>2262</th>\n",
              "      <td>-0.113821</td>\n",
              "      <td>0</td>\n",
              "      <td>1</td>\n",
              "      <td>0</td>\n",
              "      <td>0</td>\n",
              "      <td>0</td>\n",
              "      <td>1</td>\n",
              "      <td>0</td>\n",
              "      <td>0</td>\n",
              "      <td>0</td>\n",
              "    </tr>\n",
              "    <tr>\n",
              "      <th>2263</th>\n",
              "      <td>-0.435414</td>\n",
              "      <td>0</td>\n",
              "      <td>1</td>\n",
              "      <td>0</td>\n",
              "      <td>0</td>\n",
              "      <td>0</td>\n",
              "      <td>1</td>\n",
              "      <td>0</td>\n",
              "      <td>0</td>\n",
              "      <td>0</td>\n",
              "    </tr>\n",
              "    <tr>\n",
              "      <th>2264</th>\n",
              "      <td>-0.113821</td>\n",
              "      <td>0</td>\n",
              "      <td>0</td>\n",
              "      <td>1</td>\n",
              "      <td>0</td>\n",
              "      <td>1</td>\n",
              "      <td>0</td>\n",
              "      <td>0</td>\n",
              "      <td>0</td>\n",
              "      <td>0</td>\n",
              "    </tr>\n",
              "    <tr>\n",
              "      <th>2265</th>\n",
              "      <td>-0.113821</td>\n",
              "      <td>0</td>\n",
              "      <td>1</td>\n",
              "      <td>0</td>\n",
              "      <td>0</td>\n",
              "      <td>1</td>\n",
              "      <td>0</td>\n",
              "      <td>0</td>\n",
              "      <td>0</td>\n",
              "      <td>0</td>\n",
              "    </tr>\n",
              "  </tbody>\n",
              "</table>\n",
              "</div>\n",
              "      <button class=\"colab-df-convert\" onclick=\"convertToInteractive('df-f8b15dd8-c43b-42b1-a4b3-a5ff77479a3b')\"\n",
              "              title=\"Convert this dataframe to an interactive table.\"\n",
              "              style=\"display:none;\">\n",
              "        \n",
              "  <svg xmlns=\"http://www.w3.org/2000/svg\" height=\"24px\"viewBox=\"0 0 24 24\"\n",
              "       width=\"24px\">\n",
              "    <path d=\"M0 0h24v24H0V0z\" fill=\"none\"/>\n",
              "    <path d=\"M18.56 5.44l.94 2.06.94-2.06 2.06-.94-2.06-.94-.94-2.06-.94 2.06-2.06.94zm-11 1L8.5 8.5l.94-2.06 2.06-.94-2.06-.94L8.5 2.5l-.94 2.06-2.06.94zm10 10l.94 2.06.94-2.06 2.06-.94-2.06-.94-.94-2.06-.94 2.06-2.06.94z\"/><path d=\"M17.41 7.96l-1.37-1.37c-.4-.4-.92-.59-1.43-.59-.52 0-1.04.2-1.43.59L10.3 9.45l-7.72 7.72c-.78.78-.78 2.05 0 2.83L4 21.41c.39.39.9.59 1.41.59.51 0 1.02-.2 1.41-.59l7.78-7.78 2.81-2.81c.8-.78.8-2.07 0-2.86zM5.41 20L4 18.59l7.72-7.72 1.47 1.35L5.41 20z\"/>\n",
              "  </svg>\n",
              "      </button>\n",
              "      \n",
              "  <style>\n",
              "    .colab-df-container {\n",
              "      display:flex;\n",
              "      flex-wrap:wrap;\n",
              "      gap: 12px;\n",
              "    }\n",
              "\n",
              "    .colab-df-convert {\n",
              "      background-color: #E8F0FE;\n",
              "      border: none;\n",
              "      border-radius: 50%;\n",
              "      cursor: pointer;\n",
              "      display: none;\n",
              "      fill: #1967D2;\n",
              "      height: 32px;\n",
              "      padding: 0 0 0 0;\n",
              "      width: 32px;\n",
              "    }\n",
              "\n",
              "    .colab-df-convert:hover {\n",
              "      background-color: #E2EBFA;\n",
              "      box-shadow: 0px 1px 2px rgba(60, 64, 67, 0.3), 0px 1px 3px 1px rgba(60, 64, 67, 0.15);\n",
              "      fill: #174EA6;\n",
              "    }\n",
              "\n",
              "    [theme=dark] .colab-df-convert {\n",
              "      background-color: #3B4455;\n",
              "      fill: #D2E3FC;\n",
              "    }\n",
              "\n",
              "    [theme=dark] .colab-df-convert:hover {\n",
              "      background-color: #434B5C;\n",
              "      box-shadow: 0px 1px 3px 1px rgba(0, 0, 0, 0.15);\n",
              "      filter: drop-shadow(0px 1px 2px rgba(0, 0, 0, 0.3));\n",
              "      fill: #FFFFFF;\n",
              "    }\n",
              "  </style>\n",
              "\n",
              "      <script>\n",
              "        const buttonEl =\n",
              "          document.querySelector('#df-f8b15dd8-c43b-42b1-a4b3-a5ff77479a3b button.colab-df-convert');\n",
              "        buttonEl.style.display =\n",
              "          google.colab.kernel.accessAllowed ? 'block' : 'none';\n",
              "\n",
              "        async function convertToInteractive(key) {\n",
              "          const element = document.querySelector('#df-f8b15dd8-c43b-42b1-a4b3-a5ff77479a3b');\n",
              "          const dataTable =\n",
              "            await google.colab.kernel.invokeFunction('convertToInteractive',\n",
              "                                                     [key], {});\n",
              "          if (!dataTable) return;\n",
              "\n",
              "          const docLinkHtml = 'Like what you see? Visit the ' +\n",
              "            '<a target=\"_blank\" href=https://colab.research.google.com/notebooks/data_table.ipynb>data table notebook</a>'\n",
              "            + ' to learn more about interactive tables.';\n",
              "          element.innerHTML = '';\n",
              "          dataTable['output_type'] = 'display_data';\n",
              "          await google.colab.output.renderOutput(dataTable, element);\n",
              "          const docLink = document.createElement('div');\n",
              "          docLink.innerHTML = docLinkHtml;\n",
              "          element.appendChild(docLink);\n",
              "        }\n",
              "      </script>\n",
              "    </div>\n",
              "  </div>\n",
              "  "
            ]
          },
          "metadata": {},
          "execution_count": 300
        }
      ],
      "source": [
        "scaler = StandardScaler()\n",
        "school_shooting['Number_Victims'] = scaler.fit(school_shooting['Number_Victims'].array.reshape(-1, 1)).transform(school_shooting['Number_Victims'].array.reshape(-1, 1))\n",
        "school_shooting.tail()"
      ]
    },
    {
      "cell_type": "markdown",
      "metadata": {
        "id": "04JBdTG55-ce"
      },
      "source": [
        "Train test split"
      ]
    },
    {
      "cell_type": "code",
      "execution_count": 301,
      "metadata": {
        "id": "6sUVra2cmEtj"
      },
      "outputs": [],
      "source": [
        "y = school_shooting[\"Weapon_Type\"]\n",
        "X = school_shooting.drop('Weapon_Type', axis=1)\n",
        "\n",
        "X_train, X_test, y_train, y_test = train_test_split(X, y,\n",
        "                                                    test_size=0.25,\n",
        "                                                    random_state=22)"
      ]
    },
    {
      "cell_type": "markdown",
      "metadata": {
        "id": "PJ3cy0auDEPn"
      },
      "source": [
        "## Model Training and Selection"
      ]
    },
    {
      "cell_type": "markdown",
      "metadata": {
        "id": "iM5VqxzUDEPn"
      },
      "source": [
        "#### Model 1. KNN"
      ]
    },
    {
      "cell_type": "code",
      "execution_count": 302,
      "metadata": {
        "colab": {
          "base_uri": "https://localhost:8080/"
        },
        "id": "SbKcwqyA6MEV",
        "outputId": "5ffa4d47-9260-43d3-8b8b-524d7f071da5"
      },
      "outputs": [
        {
          "output_type": "stream",
          "name": "stdout",
          "text": [
            "KNN classification report:\n",
            "              precision    recall  f1-score   support\n",
            "\n",
            "  Small Guns       0.89      0.98      0.94       502\n",
            "    Big Guns       0.41      0.11      0.17        65\n",
            "\n",
            "    accuracy                           0.88       567\n",
            "   macro avg       0.65      0.54      0.55       567\n",
            "weighted avg       0.84      0.88      0.85       567\n",
            "\n"
          ]
        }
      ],
      "source": [
        "# Defining parameter for the gridsearch\n",
        "\n",
        "knn_params = {'n_neighbors': [3, 5, 7],\n",
        "              'weights': ['uniform', 'distance'],\n",
        "              'algorithm': ['ball_tree', 'kd_tree', 'brute']}\n",
        "\n",
        "\n",
        "#GridSearch\n",
        "knn = GridSearchCV(KNeighborsClassifier(), knn_params, scoring='recall', cv=5)\n",
        "       \n",
        "#Fitting the model\n",
        "knn.fit(X_train, y_train)\n",
        "\n",
        "# Choosing the best model\n",
        "best_knn = knn.best_estimator_\n",
        "\n",
        "# Testing the best model\n",
        "knn_pred = best_knn.predict(X_test)\n",
        "print(\"KNN classification report:\")\n",
        "print(classification_report(y_test, knn_pred, target_names=['Small Guns', 'Big Guns']))"
      ]
    },
    {
      "cell_type": "markdown",
      "metadata": {
        "id": "HV_X3KNU6mng"
      },
      "source": [
        "#### Model 2. Logistic Regression"
      ]
    },
    {
      "cell_type": "code",
      "execution_count": 303,
      "metadata": {
        "colab": {
          "base_uri": "https://localhost:8080/"
        },
        "id": "TL_BBaxC6mni",
        "outputId": "b43aed4f-c900-40e9-8671-fd538e5a7873"
      },
      "outputs": [
        {
          "output_type": "stream",
          "name": "stdout",
          "text": [
            "Logistic Regression classification report:\n",
            "              precision    recall  f1-score   support\n",
            "\n",
            "  Small Guns       0.89      1.00      0.94       502\n",
            "    Big Guns       0.67      0.06      0.11        65\n",
            "\n",
            "    accuracy                           0.89       567\n",
            "   macro avg       0.78      0.53      0.53       567\n",
            "weighted avg       0.87      0.89      0.85       567\n",
            "\n"
          ]
        }
      ],
      "source": [
        "# Defining parameter for the gridseach\n",
        "\n",
        "logistic_params = {'C': [0.01, 0.1, 1, 10, 100, 500, 1000],\n",
        "                   'solver': ['lbfgs', 'liblinear', 'newton-cg', 'sag', 'saga']}\n",
        "\n",
        "\n",
        "\n",
        "#GridSearch\n",
        "logistic = GridSearchCV(LogisticRegression(), logistic_params, scoring='f1', cv=5)\n",
        "       \n",
        "#Fitting the model\n",
        "logistic.fit(X_train, y_train)\n",
        "\n",
        "# Choosing the best model\n",
        "best_logistic = logistic.best_estimator_\n",
        "\n",
        "# Testing the best model\n",
        "logistic_pred = best_logistic.predict(X_test)\n",
        "print(\"Logistic Regression classification report:\")\n",
        "print(classification_report(y_test, logistic_pred, target_names=['Small Guns', 'Big Guns']))"
      ]
    },
    {
      "cell_type": "markdown",
      "metadata": {
        "id": "dh5artPb6n3e"
      },
      "source": [
        "#### Model 3. Decision Tree"
      ]
    },
    {
      "cell_type": "code",
      "execution_count": 304,
      "metadata": {
        "colab": {
          "base_uri": "https://localhost:8080/"
        },
        "id": "Y5cWjeW36n3f",
        "outputId": "edd932da-286a-4b27-a880-259bf1398295"
      },
      "outputs": [
        {
          "output_type": "stream",
          "name": "stdout",
          "text": [
            "Decision Tree classification report:\n",
            "              precision    recall  f1-score   support\n",
            "\n",
            "  Small Guns       0.89      0.98      0.94       502\n",
            "    Big Guns       0.44      0.11      0.17        65\n",
            "\n",
            "    accuracy                           0.88       567\n",
            "   macro avg       0.67      0.54      0.55       567\n",
            "weighted avg       0.84      0.88      0.85       567\n",
            "\n"
          ]
        }
      ],
      "source": [
        "# Defining parameter for the gridseach\n",
        "\n",
        "decision_tree_params = {'max_depth': [3, 5, 7],\n",
        "                        'min_samples_split': [2, 5, 10],\n",
        "                        'min_samples_leaf': [1, 2, 4]}\n",
        "\n",
        "#GridSearch\n",
        "decision_tree = GridSearchCV(DecisionTreeClassifier(), decision_tree_params, scoring='recall', cv=5)\n",
        "       \n",
        "#Fitting the model\n",
        "decision_tree.fit(X_train, y_train)\n",
        "\n",
        "# Choosing the best model\n",
        "best_decision_tree = decision_tree.best_estimator_\n",
        "\n",
        "# Testing the best model\n",
        "decision_tree_pred = best_decision_tree.predict(X_test)\n",
        "print(\"Decision Tree classification report:\")\n",
        "print(classification_report(y_test, decision_tree_pred, target_names=['Small Guns', 'Big Guns']))"
      ]
    },
    {
      "cell_type": "markdown",
      "metadata": {
        "id": "kIkU9PlD6oYz"
      },
      "source": [
        "#### Model 4. AdaBoost"
      ]
    },
    {
      "cell_type": "code",
      "execution_count": 305,
      "metadata": {
        "colab": {
          "base_uri": "https://localhost:8080/"
        },
        "id": "fDCYiiOY6oY1",
        "outputId": "36e64cce-8b05-47f1-a8b4-eec9887dcda8"
      },
      "outputs": [
        {
          "output_type": "stream",
          "name": "stdout",
          "text": [
            "AdaBoost classification report:\n",
            "              precision    recall  f1-score   support\n",
            "\n",
            "  Small Guns       0.90      0.99      0.94       502\n",
            "    Big Guns       0.71      0.15      0.25        65\n",
            "\n",
            "    accuracy                           0.90       567\n",
            "   macro avg       0.81      0.57      0.60       567\n",
            "weighted avg       0.88      0.90      0.86       567\n",
            "\n"
          ]
        }
      ],
      "source": [
        "# Defining parameter for the gridseach\n",
        "\n",
        "ada_boost_params = {'n_estimators': [50, 100, 200],\n",
        "                    'learning_rate': [0.1, 0.5, 1.0]}\n",
        "\n",
        "\n",
        "\n",
        "#GridSearch\n",
        "ada_boost = GridSearchCV(AdaBoostClassifier(), ada_boost_params, scoring='recall', cv=5)\n",
        "       \n",
        "#Fitting the model\n",
        "ada_boost.fit(X_train, y_train)\n",
        "\n",
        "# Choosing the best model\n",
        "best_ada_boost = ada_boost.best_estimator_\n",
        "\n",
        "# Testing the best model\n",
        "ada_boost_pred = best_ada_boost.predict(X_test)\n",
        "print(\"AdaBoost classification report:\")\n",
        "print(classification_report(y_test, ada_boost_pred, target_names=['Small Guns', 'Big Guns']))\n"
      ]
    },
    {
      "cell_type": "markdown",
      "metadata": {
        "id": "3oLLXPxb8STK"
      },
      "source": [
        "### Model Selecting\n",
        "\n",
        "* After running Hyperparameter tuning through GridSearch and trying out Ensemble model (AdaBoost), we are choosing AdaBoost as our best model because its precision and then recall for the minority class is the best.\n",
        "\n",
        "* We are having low recall for all the models and could not get it higher even after all the feature engineering. Our Feature Engineering significantly increased our precision for the minority class.\n",
        "\n",
        "* We have added recall as the scoring parameter for all the models in GridSearch to relatively get the best recall value.\n",
        "\n",
        "* We prioritised Precision over Recall when we could not increase both because we are tying to capture the dangers of big guns and having a higher class precision is key for that. The recall is low a it is having high False negative for that class which means the boundary between the data distribution for both classes are not distinct in the dataset."
      ]
    },
    {
      "cell_type": "code",
      "execution_count": 306,
      "metadata": {
        "colab": {
          "base_uri": "https://localhost:8080/",
          "height": 503
        },
        "id": "4IBka6aU9dPm",
        "outputId": "6ffebd06-64ff-4198-b002-2e443790ccb6"
      },
      "outputs": [
        {
          "output_type": "display_data",
          "data": {
            "text/plain": [
              "<Figure size 800x550 with 2 Axes>"
            ],
            "image/png": "[encoded data removed]"
          },
          "metadata": {}
        }
      ],
      "source": [
        "cm_AdaBoost = confusion_matrix(y_test,ada_boost_pred)\n",
        "display_cm= ConfusionMatrixDisplay(confusion_matrix=cm_AdaBoost,\n",
        "                                       display_labels=[\"Small Gun\",\"Big Gun\"])\n",
        "display_cm.plot();"
      ]
    },
    {
      "cell_type": "markdown",
      "metadata": {
        "id": "1KoEsHhzAYWq"
      },
      "source": [
        "### Using feature importance to infer the factors that result in the classification as Big Guns"
      ]
    },
    {
      "cell_type": "code",
      "execution_count": 307,
      "metadata": {
        "colab": {
          "base_uri": "https://localhost:8080/",
          "height": 485
        },
        "id": "plw88Ydu-WYw",
        "outputId": "c3543100-acb5-4c44-d475-ad5c13704f66"
      },
      "outputs": [
        {
          "output_type": "display_data",
          "data": {
            "text/plain": [
              "<Figure size 1000x500 with 1 Axes>"
            ],
            "image/png": "[encoded data removed]"
          },
          "metadata": {}
        }
      ],
      "source": [
        "# Getting the feature importance and sorting it in descending order\n",
        "importances = best_ada_boost.feature_importances_\n",
        "indices = np.argsort(importances)[::-1]\n",
        "\n",
        "#bar plot\n",
        "plt.figure(figsize=(10, 5))\n",
        "plt.title(\"Feature contributing to the classification being Big Guns\")\n",
        "plt.barh(range(len(indices)), importances[indices], align=\"center\")\n",
        "feature_names = list(X_train.columns)\n",
        "plt.yticks(range(len(indices)), [feature_names[i] for i in indices])\n",
        "plt.xlabel(\"Relative Importance\")\n",
        "plt.show()"
      ]
    },
    {
      "cell_type": "markdown",
      "metadata": {
        "id": "Fvs67_kvOvcb"
      },
      "source": [
        "# Question 3"
      ]
    },
    {
      "cell_type": "markdown",
      "metadata": {
        "id": "YtxGtMFbO2Zu"
      },
      "source": [
        "### Data Processing for Q3"
      ]
    },
    {
      "cell_type": "markdown",
      "metadata": {
        "id": "M71xuIbENU9G"
      },
      "source": [
        "### Can we predict the type of weapons dealers based on violations, the content of the inspection letter, and whether or not they were recommended to lose their license?"
      ]
    },
    {
      "cell_type": "markdown",
      "metadata": {
        "id": "2GC0usz8NU9H"
      },
      "source": [
        "Reading and cleaning missing pieces data and inspection reports on gun dealer violations. They will remain separate for now, until we begin preparing our model, at which point we will know how they can operate together, if at all."
      ]
    },
    {
      "cell_type": "markdown",
      "metadata": {
        "id": "1eA57dLfNU9H"
      },
      "source": [
        "Beginning with the gun dealer violations dataset. Broadly, this data set is a collection of inspection reports that resulted in documented violations of procedure across the US over a recent time period"
      ]
    },
    {
      "cell_type": "code",
      "execution_count": 308,
      "metadata": {
        "id": "ibnoUHeyNU9H"
      },
      "outputs": [],
      "source": [
        "violations = pd.read_csv('atf_inspection_reports_data.csv')"
      ]
    },
    {
      "cell_type": "code",
      "execution_count": 309,
      "metadata": {
        "colab": {
          "base_uri": "https://localhost:8080/"
        },
        "id": "e4Ix3ja-NU9H",
        "outputId": "e5d57756-18c5-4769-f11c-77fbaf133342"
      },
      "outputs": [
        {
          "output_type": "execute_result",
          "data": {
            "text/plain": [
              "(1925, 17)"
            ]
          },
          "metadata": {},
          "execution_count": 309
        }
      ],
      "source": [
        "violations.shape"
      ]
    },
    {
      "cell_type": "markdown",
      "metadata": {
        "id": "MwMbM_e3NU9H"
      },
      "source": [
        "This data has 1925 rows and 17 columns"
      ]
    },
    {
      "cell_type": "code",
      "execution_count": 310,
      "metadata": {
        "colab": {
          "base_uri": "https://localhost:8080/",
          "height": 513
        },
        "id": "ZuARgAZbNU9H",
        "outputId": "d18edc03-f03a-41f9-ddba-a68f390a76fd"
      },
      "outputs": [
        {
          "output_type": "execute_result",
          "data": {
            "text/plain": [
              "              ui_number            ffl_number    ffl_type  \\\n",
              "0  763050-2015-0402-B1B  1-56-059-01-6F-21093      Dealer   \n",
              "1  773015-2016-0537-B1B  4-31-025-01-8M-00941      Dealer   \n",
              "2  764035-2016-0098-B1B  1-59-025-01-7K-31613      Dealer   \n",
              "3  782110-2016-0329-B1B  5-74-123-02-7K-00925  Pawnbroker   \n",
              "4  760560-2016-0089-B1B  1-58-055-02-5B-07652  Pawnbroker   \n",
              "\n",
              "                ffl_proprietor        ffl_proprietor_2            ffl_address  \\\n",
              "0     Milholen, Charles E. III                     NaN  186 Valley Oaks Drive   \n",
              "1              Roy Lynn Eicher     Hunters Den Of Ohio        1299C Ohio Pike   \n",
              "2        Venegas Ventures, LLC           The Gun Stash     12043 SW 117th CT.   \n",
              "3           Brasher, Jerry Lee                     NaN       602 US Hwy 77a S   \n",
              "4  Herb's Trading Company, LLC  Herb's Trading Company       12334 Highway 27   \n",
              "\n",
              "      ffl_city ffl_state  ffl_zip  ffl_county inspection_assign_date  \\\n",
              "0      Advance        NC  27006.0       Davie             2015-09-15   \n",
              "1       Amelia        OH  45102.0    Clermont             2016-06-09   \n",
              "2        Miami        FL  33186.0  Miami-dade             2016-01-27   \n",
              "3       Yoakum        TX  77995.0      Dewitt             2016-05-25   \n",
              "4  Summerville        GA  30747.0   Chattooga             2015-11-18   \n",
              "\n",
              "  inspection_complete_date revocation_effective_date final_disposition  \\\n",
              "0               2015-12-01                       NaN    Warning letter   \n",
              "1               2016-07-18                       NaN    Warning letter   \n",
              "2               2016-07-15                       NaN    Warning letter   \n",
              "3               2016-07-05                       NaN    Warning letter   \n",
              "4               2016-11-08                       NaN    Warning letter   \n",
              "\n",
              "  revocation_warranted                                         violations  \\\n",
              "0                    N                  478.21(a), 478.102(a), 478.103(a)   \n",
              "1                    N  478.21(a), 478.124(c)(1), 478.124(c)(3)(iv), 4...   \n",
              "2                    N  478.21(a), 478.124(c)(1), 478.124(c)(3)(iv), 4...   \n",
              "3                    N  478.21(a), 478.102(a), 478.124(a), 478.124(c)(...   \n",
              "4                    N  478.21(a), 478.124(c)(1), 478.124(c)(3)(i), 47...   \n",
              "\n",
              "                                          report_url  \n",
              "0  https://atf-inspection-reports.s3.amazonaws.co...  \n",
              "1  https://atf-inspection-reports.s3.amazonaws.co...  \n",
              "2  https://atf-inspection-reports.s3.amazonaws.co...  \n",
              "3  https://atf-inspection-reports.s3.amazonaws.co...  \n",
              "4  https://atf-inspection-reports.s3.amazonaws.co...  "
            ],
            "text/html": [
              "\n",
              "  <div id=\"df-8f6244f9-ae70-47c7-8db2-7b486bc7050c\">\n",
              "    <div class=\"colab-df-container\">\n",
              "      <div>\n",
              "<style scoped>\n",
              "    .dataframe tbody tr th:only-of-type {\n",
              "        vertical-align: middle;\n",
              "    }\n",
              "\n",
              "    .dataframe tbody tr th {\n",
              "        vertical-align: top;\n",
              "    }\n",
              "\n",
              "    .dataframe thead th {\n",
              "        text-align: right;\n",
              "    }\n",
              "</style>\n",
              "<table border=\"1\" class=\"dataframe\">\n",
              "  <thead>\n",
              "    <tr style=\"text-align: right;\">\n",
              "      <th></th>\n",
              "      <th>ui_number</th>\n",
              "      <th>ffl_number</th>\n",
              "      <th>ffl_type</th>\n",
              "      <th>ffl_proprietor</th>\n",
              "      <th>ffl_proprietor_2</th>\n",
              "      <th>ffl_address</th>\n",
              "      <th>ffl_city</th>\n",
              "      <th>ffl_state</th>\n",
              "      <th>ffl_zip</th>\n",
              "      <th>ffl_county</th>\n",
              "      <th>inspection_assign_date</th>\n",
              "      <th>inspection_complete_date</th>\n",
              "      <th>revocation_effective_date</th>\n",
              "      <th>final_disposition</th>\n",
              "      <th>revocation_warranted</th>\n",
              "      <th>violations</th>\n",
              "      <th>report_url</th>\n",
              "    </tr>\n",
              "  </thead>\n",
              "  <tbody>\n",
              "    <tr>\n",
              "      <th>0</th>\n",
              "      <td>763050-2015-0402-B1B</td>\n",
              "      <td>1-56-059-01-6F-21093</td>\n",
              "      <td>Dealer</td>\n",
              "      <td>Milholen, Charles E. III</td>\n",
              "      <td>NaN</td>\n",
              "      <td>186 Valley Oaks Drive</td>\n",
              "      <td>Advance</td>\n",
              "      <td>NC</td>\n",
              "      <td>27006.0</td>\n",
              "      <td>Davie</td>\n",
              "      <td>2015-09-15</td>\n",
              "      <td>2015-12-01</td>\n",
              "      <td>NaN</td>\n",
              "      <td>Warning letter</td>\n",
              "      <td>N</td>\n",
              "      <td>478.21(a), 478.102(a), 478.103(a)</td>\n",
              "      <td>https://atf-inspection-reports.s3.amazonaws.co...</td>\n",
              "    </tr>\n",
              "    <tr>\n",
              "      <th>1</th>\n",
              "      <td>773015-2016-0537-B1B</td>\n",
              "      <td>4-31-025-01-8M-00941</td>\n",
              "      <td>Dealer</td>\n",
              "      <td>Roy Lynn Eicher</td>\n",
              "      <td>Hunters Den Of Ohio</td>\n",
              "      <td>1299C Ohio Pike</td>\n",
              "      <td>Amelia</td>\n",
              "      <td>OH</td>\n",
              "      <td>45102.0</td>\n",
              "      <td>Clermont</td>\n",
              "      <td>2016-06-09</td>\n",
              "      <td>2016-07-18</td>\n",
              "      <td>NaN</td>\n",
              "      <td>Warning letter</td>\n",
              "      <td>N</td>\n",
              "      <td>478.21(a), 478.124(c)(1), 478.124(c)(3)(iv), 4...</td>\n",
              "      <td>https://atf-inspection-reports.s3.amazonaws.co...</td>\n",
              "    </tr>\n",
              "    <tr>\n",
              "      <th>2</th>\n",
              "      <td>764035-2016-0098-B1B</td>\n",
              "      <td>1-59-025-01-7K-31613</td>\n",
              "      <td>Dealer</td>\n",
              "      <td>Venegas Ventures, LLC</td>\n",
              "      <td>The Gun Stash</td>\n",
              "      <td>12043 SW 117th CT.</td>\n",
              "      <td>Miami</td>\n",
              "      <td>FL</td>\n",
              "      <td>33186.0</td>\n",
              "      <td>Miami-dade</td>\n",
              "      <td>2016-01-27</td>\n",
              "      <td>2016-07-15</td>\n",
              "      <td>NaN</td>\n",
              "      <td>Warning letter</td>\n",
              "      <td>N</td>\n",
              "      <td>478.21(a), 478.124(c)(1), 478.124(c)(3)(iv), 4...</td>\n",
              "      <td>https://atf-inspection-reports.s3.amazonaws.co...</td>\n",
              "    </tr>\n",
              "    <tr>\n",
              "      <th>3</th>\n",
              "      <td>782110-2016-0329-B1B</td>\n",
              "      <td>5-74-123-02-7K-00925</td>\n",
              "      <td>Pawnbroker</td>\n",
              "      <td>Brasher, Jerry Lee</td>\n",
              "      <td>NaN</td>\n",
              "      <td>602 US Hwy 77a S</td>\n",
              "      <td>Yoakum</td>\n",
              "      <td>TX</td>\n",
              "      <td>77995.0</td>\n",
              "      <td>Dewitt</td>\n",
              "      <td>2016-05-25</td>\n",
              "      <td>2016-07-05</td>\n",
              "      <td>NaN</td>\n",
              "      <td>Warning letter</td>\n",
              "      <td>N</td>\n",
              "      <td>478.21(a), 478.102(a), 478.124(a), 478.124(c)(...</td>\n",
              "      <td>https://atf-inspection-reports.s3.amazonaws.co...</td>\n",
              "    </tr>\n",
              "    <tr>\n",
              "      <th>4</th>\n",
              "      <td>760560-2016-0089-B1B</td>\n",
              "      <td>1-58-055-02-5B-07652</td>\n",
              "      <td>Pawnbroker</td>\n",
              "      <td>Herb's Trading Company, LLC</td>\n",
              "      <td>Herb's Trading Company</td>\n",
              "      <td>12334 Highway 27</td>\n",
              "      <td>Summerville</td>\n",
              "      <td>GA</td>\n",
              "      <td>30747.0</td>\n",
              "      <td>Chattooga</td>\n",
              "      <td>2015-11-18</td>\n",
              "      <td>2016-11-08</td>\n",
              "      <td>NaN</td>\n",
              "      <td>Warning letter</td>\n",
              "      <td>N</td>\n",
              "      <td>478.21(a), 478.124(c)(1), 478.124(c)(3)(i), 47...</td>\n",
              "      <td>https://atf-inspection-reports.s3.amazonaws.co...</td>\n",
              "    </tr>\n",
              "  </tbody>\n",
              "</table>\n",
              "</div>\n",
              "      <button class=\"colab-df-convert\" onclick=\"convertToInteractive('df-8f6244f9-ae70-47c7-8db2-7b486bc7050c')\"\n",
              "              title=\"Convert this dataframe to an interactive table.\"\n",
              "              style=\"display:none;\">\n",
              "        \n",
              "  <svg xmlns=\"http://www.w3.org/2000/svg\" height=\"24px\"viewBox=\"0 0 24 24\"\n",
              "       width=\"24px\">\n",
              "    <path d=\"M0 0h24v24H0V0z\" fill=\"none\"/>\n",
              "    <path d=\"M18.56 5.44l.94 2.06.94-2.06 2.06-.94-2.06-.94-.94-2.06-.94 2.06-2.06.94zm-11 1L8.5 8.5l.94-2.06 2.06-.94-2.06-.94L8.5 2.5l-.94 2.06-2.06.94zm10 10l.94 2.06.94-2.06 2.06-.94-2.06-.94-.94-2.06-.94 2.06-2.06.94z\"/><path d=\"M17.41 7.96l-1.37-1.37c-.4-.4-.92-.59-1.43-.59-.52 0-1.04.2-1.43.59L10.3 9.45l-7.72 7.72c-.78.78-.78 2.05 0 2.83L4 21.41c.39.39.9.59 1.41.59.51 0 1.02-.2 1.41-.59l7.78-7.78 2.81-2.81c.8-.78.8-2.07 0-2.86zM5.41 20L4 18.59l7.72-7.72 1.47 1.35L5.41 20z\"/>\n",
              "  </svg>\n",
              "      </button>\n",
              "      \n",
              "  <style>\n",
              "    .colab-df-container {\n",
              "      display:flex;\n",
              "      flex-wrap:wrap;\n",
              "      gap: 12px;\n",
              "    }\n",
              "\n",
              "    .colab-df-convert {\n",
              "      background-color: #E8F0FE;\n",
              "      border: none;\n",
              "      border-radius: 50%;\n",
              "      cursor: pointer;\n",
              "      display: none;\n",
              "      fill: #1967D2;\n",
              "      height: 32px;\n",
              "      padding: 0 0 0 0;\n",
              "      width: 32px;\n",
              "    }\n",
              "\n",
              "    .colab-df-convert:hover {\n",
              "      background-color: #E2EBFA;\n",
              "      box-shadow: 0px 1px 2px rgba(60, 64, 67, 0.3), 0px 1px 3px 1px rgba(60, 64, 67, 0.15);\n",
              "      fill: #174EA6;\n",
              "    }\n",
              "\n",
              "    [theme=dark] .colab-df-convert {\n",
              "      background-color: #3B4455;\n",
              "      fill: #D2E3FC;\n",
              "    }\n",
              "\n",
              "    [theme=dark] .colab-df-convert:hover {\n",
              "      background-color: #434B5C;\n",
              "      box-shadow: 0px 1px 3px 1px rgba(0, 0, 0, 0.15);\n",
              "      filter: drop-shadow(0px 1px 2px rgba(0, 0, 0, 0.3));\n",
              "      fill: #FFFFFF;\n",
              "    }\n",
              "  </style>\n",
              "\n",
              "      <script>\n",
              "        const buttonEl =\n",
              "          document.querySelector('#df-8f6244f9-ae70-47c7-8db2-7b486bc7050c button.colab-df-convert');\n",
              "        buttonEl.style.display =\n",
              "          google.colab.kernel.accessAllowed ? 'block' : 'none';\n",
              "\n",
              "        async function convertToInteractive(key) {\n",
              "          const element = document.querySelector('#df-8f6244f9-ae70-47c7-8db2-7b486bc7050c');\n",
              "          const dataTable =\n",
              "            await google.colab.kernel.invokeFunction('convertToInteractive',\n",
              "                                                     [key], {});\n",
              "          if (!dataTable) return;\n",
              "\n",
              "          const docLinkHtml = 'Like what you see? Visit the ' +\n",
              "            '<a target=\"_blank\" href=https://colab.research.google.com/notebooks/data_table.ipynb>data table notebook</a>'\n",
              "            + ' to learn more about interactive tables.';\n",
              "          element.innerHTML = '';\n",
              "          dataTable['output_type'] = 'display_data';\n",
              "          await google.colab.output.renderOutput(dataTable, element);\n",
              "          const docLink = document.createElement('div');\n",
              "          docLink.innerHTML = docLinkHtml;\n",
              "          element.appendChild(docLink);\n",
              "        }\n",
              "      </script>\n",
              "    </div>\n",
              "  </div>\n",
              "  "
            ]
          },
          "metadata": {},
          "execution_count": 310
        }
      ],
      "source": [
        "violations.head()"
      ]
    },
    {
      "cell_type": "markdown",
      "metadata": {
        "id": "veJ6QW1mNU9I"
      },
      "source": [
        "A brief look tells us this is mostly record keeping information, but some categorical variables of interest could be the state, final disposition, revocation warranted or not, and especially the violations in question. "
      ]
    },
    {
      "cell_type": "code",
      "execution_count": 311,
      "metadata": {
        "colab": {
          "base_uri": "https://localhost:8080/"
        },
        "id": "DLiBTOQVNU9I",
        "outputId": "b078943c-190d-4dce-d419-60256dfa2359"
      },
      "outputs": [
        {
          "output_type": "stream",
          "name": "stdout",
          "text": [
            "<class 'pandas.core.frame.DataFrame'>\n",
            "RangeIndex: 1925 entries, 0 to 1924\n",
            "Data columns (total 17 columns):\n",
            " #   Column                     Non-Null Count  Dtype  \n",
            "---  ------                     --------------  -----  \n",
            " 0   ui_number                  1925 non-null   object \n",
            " 1   ffl_number                 1924 non-null   object \n",
            " 2   ffl_type                   1924 non-null   object \n",
            " 3   ffl_proprietor             1924 non-null   object \n",
            " 4   ffl_proprietor_2           1201 non-null   object \n",
            " 5   ffl_address                1924 non-null   object \n",
            " 6   ffl_city                   1924 non-null   object \n",
            " 7   ffl_state                  1924 non-null   object \n",
            " 8   ffl_zip                    1924 non-null   float64\n",
            " 9   ffl_county                 1924 non-null   object \n",
            " 10  inspection_assign_date     1924 non-null   object \n",
            " 11  inspection_complete_date   1919 non-null   object \n",
            " 12  revocation_effective_date  37 non-null     object \n",
            " 13  final_disposition          1924 non-null   object \n",
            " 14  revocation_warranted       1924 non-null   object \n",
            " 15  violations                 1923 non-null   object \n",
            " 16  report_url                 1924 non-null   object \n",
            "dtypes: float64(1), object(16)\n",
            "memory usage: 255.8+ KB\n"
          ]
        }
      ],
      "source": [
        "violations.info()"
      ]
    },
    {
      "cell_type": "markdown",
      "metadata": {
        "id": "EP4tg2L3NU9I"
      },
      "source": [
        "The following variables are our relevant features that we are choosing:\n",
        "\n",
        "\n",
        "\n",
        "*   ffl_type - Dealer type\n",
        "*   ffl_state - State\n",
        "*   final_disposition - Result of the inspection \n",
        "*   inspection_complete_date - Date\n",
        "*   revocation_warranted - Whether or not the licensed are revoked \n",
        "*   violations - The legal code of violation\n",
        "\n",
        "\n",
        "\n"
      ]
    },
    {
      "cell_type": "code",
      "execution_count": 312,
      "metadata": {
        "colab": {
          "base_uri": "https://localhost:8080/",
          "height": 206
        },
        "id": "esc0zxQENU9I",
        "outputId": "d1cc9344-65c2-4a5b-8637-e437c0f6f4e6"
      },
      "outputs": [
        {
          "output_type": "execute_result",
          "data": {
            "text/plain": [
              "     ffl_type ffl_state final_disposition inspection_complete_date  \\\n",
              "0      Dealer        NC    Warning letter               2015-12-01   \n",
              "1      Dealer        OH    Warning letter               2016-07-18   \n",
              "2      Dealer        FL    Warning letter               2016-07-15   \n",
              "3  Pawnbroker        TX    Warning letter               2016-07-05   \n",
              "4  Pawnbroker        GA    Warning letter               2016-11-08   \n",
              "\n",
              "  revocation_warranted                                         violations  \n",
              "0                    N                  478.21(a), 478.102(a), 478.103(a)  \n",
              "1                    N  478.21(a), 478.124(c)(1), 478.124(c)(3)(iv), 4...  \n",
              "2                    N  478.21(a), 478.124(c)(1), 478.124(c)(3)(iv), 4...  \n",
              "3                    N  478.21(a), 478.102(a), 478.124(a), 478.124(c)(...  \n",
              "4                    N  478.21(a), 478.124(c)(1), 478.124(c)(3)(i), 47...  "
            ],
            "text/html": [
              "\n",
              "  <div id=\"df-9e10d8ca-20d9-4e8b-bffb-19708720d7a9\">\n",
              "    <div class=\"colab-df-container\">\n",
              "      <div>\n",
              "<style scoped>\n",
              "    .dataframe tbody tr th:only-of-type {\n",
              "        vertical-align: middle;\n",
              "    }\n",
              "\n",
              "    .dataframe tbody tr th {\n",
              "        vertical-align: top;\n",
              "    }\n",
              "\n",
              "    .dataframe thead th {\n",
              "        text-align: right;\n",
              "    }\n",
              "</style>\n",
              "<table border=\"1\" class=\"dataframe\">\n",
              "  <thead>\n",
              "    <tr style=\"text-align: right;\">\n",
              "      <th></th>\n",
              "      <th>ffl_type</th>\n",
              "      <th>ffl_state</th>\n",
              "      <th>final_disposition</th>\n",
              "      <th>inspection_complete_date</th>\n",
              "      <th>revocation_warranted</th>\n",
              "      <th>violations</th>\n",
              "    </tr>\n",
              "  </thead>\n",
              "  <tbody>\n",
              "    <tr>\n",
              "      <th>0</th>\n",
              "      <td>Dealer</td>\n",
              "      <td>NC</td>\n",
              "      <td>Warning letter</td>\n",
              "      <td>2015-12-01</td>\n",
              "      <td>N</td>\n",
              "      <td>478.21(a), 478.102(a), 478.103(a)</td>\n",
              "    </tr>\n",
              "    <tr>\n",
              "      <th>1</th>\n",
              "      <td>Dealer</td>\n",
              "      <td>OH</td>\n",
              "      <td>Warning letter</td>\n",
              "      <td>2016-07-18</td>\n",
              "      <td>N</td>\n",
              "      <td>478.21(a), 478.124(c)(1), 478.124(c)(3)(iv), 4...</td>\n",
              "    </tr>\n",
              "    <tr>\n",
              "      <th>2</th>\n",
              "      <td>Dealer</td>\n",
              "      <td>FL</td>\n",
              "      <td>Warning letter</td>\n",
              "      <td>2016-07-15</td>\n",
              "      <td>N</td>\n",
              "      <td>478.21(a), 478.124(c)(1), 478.124(c)(3)(iv), 4...</td>\n",
              "    </tr>\n",
              "    <tr>\n",
              "      <th>3</th>\n",
              "      <td>Pawnbroker</td>\n",
              "      <td>TX</td>\n",
              "      <td>Warning letter</td>\n",
              "      <td>2016-07-05</td>\n",
              "      <td>N</td>\n",
              "      <td>478.21(a), 478.102(a), 478.124(a), 478.124(c)(...</td>\n",
              "    </tr>\n",
              "    <tr>\n",
              "      <th>4</th>\n",
              "      <td>Pawnbroker</td>\n",
              "      <td>GA</td>\n",
              "      <td>Warning letter</td>\n",
              "      <td>2016-11-08</td>\n",
              "      <td>N</td>\n",
              "      <td>478.21(a), 478.124(c)(1), 478.124(c)(3)(i), 47...</td>\n",
              "    </tr>\n",
              "  </tbody>\n",
              "</table>\n",
              "</div>\n",
              "      <button class=\"colab-df-convert\" onclick=\"convertToInteractive('df-9e10d8ca-20d9-4e8b-bffb-19708720d7a9')\"\n",
              "              title=\"Convert this dataframe to an interactive table.\"\n",
              "              style=\"display:none;\">\n",
              "        \n",
              "  <svg xmlns=\"http://www.w3.org/2000/svg\" height=\"24px\"viewBox=\"0 0 24 24\"\n",
              "       width=\"24px\">\n",
              "    <path d=\"M0 0h24v24H0V0z\" fill=\"none\"/>\n",
              "    <path d=\"M18.56 5.44l.94 2.06.94-2.06 2.06-.94-2.06-.94-.94-2.06-.94 2.06-2.06.94zm-11 1L8.5 8.5l.94-2.06 2.06-.94-2.06-.94L8.5 2.5l-.94 2.06-2.06.94zm10 10l.94 2.06.94-2.06 2.06-.94-2.06-.94-.94-2.06-.94 2.06-2.06.94z\"/><path d=\"M17.41 7.96l-1.37-1.37c-.4-.4-.92-.59-1.43-.59-.52 0-1.04.2-1.43.59L10.3 9.45l-7.72 7.72c-.78.78-.78 2.05 0 2.83L4 21.41c.39.39.9.59 1.41.59.51 0 1.02-.2 1.41-.59l7.78-7.78 2.81-2.81c.8-.78.8-2.07 0-2.86zM5.41 20L4 18.59l7.72-7.72 1.47 1.35L5.41 20z\"/>\n",
              "  </svg>\n",
              "      </button>\n",
              "      \n",
              "  <style>\n",
              "    .colab-df-container {\n",
              "      display:flex;\n",
              "      flex-wrap:wrap;\n",
              "      gap: 12px;\n",
              "    }\n",
              "\n",
              "    .colab-df-convert {\n",
              "      background-color: #E8F0FE;\n",
              "      border: none;\n",
              "      border-radius: 50%;\n",
              "      cursor: pointer;\n",
              "      display: none;\n",
              "      fill: #1967D2;\n",
              "      height: 32px;\n",
              "      padding: 0 0 0 0;\n",
              "      width: 32px;\n",
              "    }\n",
              "\n",
              "    .colab-df-convert:hover {\n",
              "      background-color: #E2EBFA;\n",
              "      box-shadow: 0px 1px 2px rgba(60, 64, 67, 0.3), 0px 1px 3px 1px rgba(60, 64, 67, 0.15);\n",
              "      fill: #174EA6;\n",
              "    }\n",
              "\n",
              "    [theme=dark] .colab-df-convert {\n",
              "      background-color: #3B4455;\n",
              "      fill: #D2E3FC;\n",
              "    }\n",
              "\n",
              "    [theme=dark] .colab-df-convert:hover {\n",
              "      background-color: #434B5C;\n",
              "      box-shadow: 0px 1px 3px 1px rgba(0, 0, 0, 0.15);\n",
              "      filter: drop-shadow(0px 1px 2px rgba(0, 0, 0, 0.3));\n",
              "      fill: #FFFFFF;\n",
              "    }\n",
              "  </style>\n",
              "\n",
              "      <script>\n",
              "        const buttonEl =\n",
              "          document.querySelector('#df-9e10d8ca-20d9-4e8b-bffb-19708720d7a9 button.colab-df-convert');\n",
              "        buttonEl.style.display =\n",
              "          google.colab.kernel.accessAllowed ? 'block' : 'none';\n",
              "\n",
              "        async function convertToInteractive(key) {\n",
              "          const element = document.querySelector('#df-9e10d8ca-20d9-4e8b-bffb-19708720d7a9');\n",
              "          const dataTable =\n",
              "            await google.colab.kernel.invokeFunction('convertToInteractive',\n",
              "                                                     [key], {});\n",
              "          if (!dataTable) return;\n",
              "\n",
              "          const docLinkHtml = 'Like what you see? Visit the ' +\n",
              "            '<a target=\"_blank\" href=https://colab.research.google.com/notebooks/data_table.ipynb>data table notebook</a>'\n",
              "            + ' to learn more about interactive tables.';\n",
              "          element.innerHTML = '';\n",
              "          dataTable['output_type'] = 'display_data';\n",
              "          await google.colab.output.renderOutput(dataTable, element);\n",
              "          const docLink = document.createElement('div');\n",
              "          docLink.innerHTML = docLinkHtml;\n",
              "          element.appendChild(docLink);\n",
              "        }\n",
              "      </script>\n",
              "    </div>\n",
              "  </div>\n",
              "  "
            ]
          },
          "metadata": {},
          "execution_count": 312
        }
      ],
      "source": [
        "violations = violations[['ffl_type', 'ffl_state', 'final_disposition', 'inspection_complete_date', 'revocation_warranted', 'violations']]\n",
        "violations.head(5)"
      ]
    },
    {
      "cell_type": "markdown",
      "metadata": {
        "id": "03aakE8qNU9I"
      },
      "source": [
        "Now we are sorting out the least relevant columns for our data here. We are taking only dealer type, state, final disposition, revocation warranted, and violations as well as inspection complete date. We are only taking date for purposes of further data exploration, but it will not factor into our model with this data. "
      ]
    },
    {
      "cell_type": "markdown",
      "metadata": {
        "id": "go61bNHqNU9J"
      },
      "source": [
        "We are still missing some data here, so we will drop all na's. it should not adversely affect our data much as we are only losing 6 rows in total. "
      ]
    },
    {
      "cell_type": "code",
      "execution_count": 313,
      "metadata": {
        "id": "u0KMJxR2NU9J"
      },
      "outputs": [],
      "source": [
        "violations = violations.dropna()"
      ]
    },
    {
      "cell_type": "markdown",
      "metadata": {
        "id": "95LjIaVSNU9J"
      },
      "source": [
        "Our potential candidate version of this data set has 1919 rows and 5 columns"
      ]
    },
    {
      "cell_type": "markdown",
      "metadata": {
        "id": "0UHGzDa6NU9J"
      },
      "source": [
        "Inspecting this variable, because it will be of interest in relation to our target variable. We may need to split this into dummy variables. "
      ]
    },
    {
      "cell_type": "code",
      "execution_count": 314,
      "metadata": {
        "colab": {
          "base_uri": "https://localhost:8080/"
        },
        "id": "VFasvLPvNU9J",
        "outputId": "94602208-7a9f-420f-8624-2abfa2f0e36e"
      },
      "outputs": [
        {
          "output_type": "stream",
          "name": "stdout",
          "text": [
            "478.125(e)                                                                                                                                                                    91\n",
            "478.126a                                                                                                                                                                      74\n",
            "478.125(e), 478.126a                                                                                                                                                          24\n",
            "478.102(a)                                                                                                                                                                    16\n",
            "478.21(a), 478.124(c)(1), 478.124(c)(3)(i), 478.124(c)(3)(iv), 478.124(c)(4), 478.124(c)(5), 478.125(e)                                                                       11\n",
            "                                                                                                                                                                              ..\n",
            "478.125(e), 478.102(a), 478.99(c), 478.124(c)(1), 478.124(c)(3)(i), 478.124(c)(3)(iv), 478.124(c)(4), 478.124(c)(5), 478.126a, 478.21(a)                                       1\n",
            "478.21(a), 478.99(c), 478.124(c)(1), 478.124(c)(1), 478.124(c)(3)(iv), 478.124(c)(5), 478.125(e)                                                                               1\n",
            "478.125(e), 478.21(a), 478.124(c)(1), 478.124(c)(3)(i), 478.124(c)(3)(iv), 478.124(c)(4), 478.124(c)(5), 478.102(a), 478.124(a), 478.129(b), 479.84, 478.41(a), 478.103(a)     1\n",
            "478.123(d), 478.124(c)(3)(iv)                                                                                                                                                  1\n",
            "478.131(a)(2), 478.123(d)                                                                                                                                                      1\n",
            "Name: violations, Length: 1355, dtype: int64\n"
          ]
        }
      ],
      "source": [
        "print(violations['violations'].value_counts())"
      ]
    },
    {
      "cell_type": "markdown",
      "metadata": {
        "id": "3FDnJQSULr7m"
      },
      "source": [
        "We are going to see if there is any value in sorting through these violations for use in our classifications models"
      ]
    },
    {
      "cell_type": "markdown",
      "metadata": {
        "id": "ek3LAGRSLr7n"
      },
      "source": [
        "now that we have an understanding of this column, we are going to fix it on our dataframe"
      ]
    },
    {
      "cell_type": "markdown",
      "metadata": {
        "id": "10RRpYG-NU9J"
      },
      "source": [
        "We are also creating totals of the raw number of violations to see if that has any impact on our predictions as well. "
      ]
    },
    {
      "cell_type": "code",
      "execution_count": 315,
      "metadata": {
        "id": "fdmEyP8oNU9J"
      },
      "outputs": [],
      "source": [
        "total_violations = []\n",
        "\n",
        "for i in violations['violations']:\n",
        "  total = len(i.split(','))\n",
        "  total_violations.append(total)"
      ]
    },
    {
      "cell_type": "code",
      "execution_count": 316,
      "metadata": {
        "colab": {
          "base_uri": "https://localhost:8080/"
        },
        "id": "WfKHQ9q3NU9J",
        "outputId": "a5dd2004-e579-477c-df20-ec5495612564"
      },
      "outputs": [
        {
          "output_type": "stream",
          "name": "stdout",
          "text": [
            "1918\n"
          ]
        },
        {
          "output_type": "execute_result",
          "data": {
            "text/plain": [
              "[3, 6, 6, 8, 9, 6, 1, 8, 6, 4, 7, 7, 7, 1, 2, 2, 1, 6, 1, 9]"
            ]
          },
          "metadata": {},
          "execution_count": 316
        }
      ],
      "source": [
        "print(len(total_violations))\n",
        "#first 20 values\n",
        "total_violations[:20]"
      ]
    },
    {
      "cell_type": "markdown",
      "metadata": {
        "id": "U2jSDZYjNU9K"
      },
      "source": [
        "appending this to our original violation data set"
      ]
    },
    {
      "cell_type": "code",
      "execution_count": 317,
      "metadata": {
        "id": "-Vr4WKUGNU9K"
      },
      "outputs": [],
      "source": [
        "violations['totals'] = total_violations"
      ]
    },
    {
      "cell_type": "markdown",
      "metadata": {
        "id": "X2ah-CGmNU9K"
      },
      "source": [
        "let's recode the final disposition letters and revocation warranted variables, which will also go into our classification."
      ]
    },
    {
      "cell_type": "code",
      "execution_count": 318,
      "metadata": {
        "colab": {
          "base_uri": "https://localhost:8080/"
        },
        "id": "1MAoFkk6NU9K",
        "outputId": "256df07e-5175-477a-c963-033d61ce1f06"
      },
      "outputs": [
        {
          "output_type": "stream",
          "name": "stdout",
          "text": [
            "Warning letter                  1769\n",
            "Warning conference                83\n",
            "Revocation/denial of renewal      55\n",
            "Settlement                         6\n",
            "Surrendered/out of business        5\n",
            "Name: final_disposition, dtype: int64\n"
          ]
        }
      ],
      "source": [
        "print(violations['final_disposition'].value_counts())"
      ]
    },
    {
      "cell_type": "code",
      "execution_count": 319,
      "metadata": {
        "id": "ruvfpXj7NU9K"
      },
      "outputs": [],
      "source": [
        "violations = pd.concat([violations, pd.get_dummies(violations['final_disposition'])], axis=1)\n"
      ]
    },
    {
      "cell_type": "markdown",
      "metadata": {
        "id": "1uf_fiYJNU9K"
      },
      "source": [
        "and for 'revocation warranted'"
      ]
    },
    {
      "cell_type": "code",
      "execution_count": 320,
      "metadata": {
        "colab": {
          "base_uri": "https://localhost:8080/"
        },
        "id": "BghMtWfiNU9L",
        "outputId": "b6b89b40-3b19-4657-8b58-7035b35f76d2"
      },
      "outputs": [
        {
          "output_type": "stream",
          "name": "stdout",
          "text": [
            "N    1781\n",
            "Y     137\n",
            "Name: revocation_warranted, dtype: int64\n"
          ]
        }
      ],
      "source": [
        "print(violations['revocation_warranted'].value_counts())"
      ]
    },
    {
      "cell_type": "code",
      "execution_count": 321,
      "metadata": {
        "id": "D62ZMt8jNU9L"
      },
      "outputs": [],
      "source": [
        "violations = pd.concat([violations, pd.get_dummies(violations['revocation_warranted'])], axis=1)\n"
      ]
    },
    {
      "cell_type": "markdown",
      "metadata": {
        "id": "gyM9QGV2NU9L"
      },
      "source": [
        "This data set will be used for our Q3 classification model"
      ]
    },
    {
      "cell_type": "markdown",
      "metadata": {
        "id": "5dAQsLlQNU9L"
      },
      "source": [
        "Finally, we will use LabelEncoder to recode our target variable, because it has many categories"
      ]
    },
    {
      "cell_type": "code",
      "execution_count": 322,
      "metadata": {
        "colab": {
          "base_uri": "https://localhost:8080/"
        },
        "id": "YiKZgCWcNU9L",
        "outputId": "5415dd3f-89c6-4afb-80c1-c9315e3abe4f"
      },
      "outputs": [
        {
          "output_type": "stream",
          "name": "stdout",
          "text": [
            "Dealer          1041\n",
            "Manufacturer     460\n",
            "Pawnbroker       394\n",
            "Importer          23\n",
            "Name: ffl_type, dtype: int64\n"
          ]
        }
      ],
      "source": [
        "print(violations['ffl_type'].value_counts())"
      ]
    },
    {
      "cell_type": "markdown",
      "metadata": {
        "id": "pGoVTD1CLr7o"
      },
      "source": [
        "We are going to recode the ffl_type 'importer' and 'pawnbroker' to dealer due to the massive class imbalance in our target variable. Then we will recode our variable. In the context of the question, it makes sense to classify both importers and pawnbrokers as dealers and not manufacturers because they deal at a point of sale with a complete product and are likely to experience different inspections than manufacturers. "
      ]
    },
    {
      "cell_type": "code",
      "execution_count": 323,
      "metadata": {
        "id": "KRTojxaQLr7o"
      },
      "outputs": [],
      "source": [
        "violations['ffl_type'] = violations['ffl_type'].replace({\n",
        "   'Importer': 'Dealer'})\n",
        "violations['ffl_type'] = violations['ffl_type'].replace({\n",
        "   'Pawnbroker': 'Dealer'})"
      ]
    },
    {
      "cell_type": "code",
      "execution_count": 324,
      "metadata": {
        "id": "jTNwRzAPNU9L"
      },
      "outputs": [],
      "source": [
        "enc = LabelEncoder()\n",
        "newenc = enc.fit_transform(violations['ffl_type'].ravel())\n",
        "target_codes = pd.DataFrame(newenc)\n"
      ]
    },
    {
      "cell_type": "markdown",
      "metadata": {
        "id": "FX88pdy1NU9L"
      },
      "source": [
        "Appending to our original data set"
      ]
    },
    {
      "cell_type": "code",
      "execution_count": 325,
      "metadata": {
        "id": "ftexb2zlNU9L"
      },
      "outputs": [],
      "source": [
        "violations['target_codes'] = target_codes"
      ]
    },
    {
      "cell_type": "markdown",
      "metadata": {
        "id": "vCtmIvYCNU9L"
      },
      "source": [
        "----------------------------------------------------------"
      ]
    },
    {
      "cell_type": "markdown",
      "metadata": {
        "id": "TPEArzJmNU9h"
      },
      "source": [
        "#### Final note: we are retaining a few variables we know are likely to be unnecessary in each of our data sets, such as state and year, to remind us of the general area and period for which our data exists. These will be removed when we prepare to fit our models and test them. "
      ]
    },
    {
      "cell_type": "markdown",
      "metadata": {
        "id": "J4t5tx3S-1uu"
      },
      "source": [
        "## Feature Engineering"
      ]
    },
    {
      "cell_type": "code",
      "execution_count": 326,
      "metadata": {
        "colab": {
          "base_uri": "https://localhost:8080/",
          "height": 530
        },
        "id": "GEKC-LT1Lr7q",
        "outputId": "29fbc7a7-2be9-4119-ccb8-acfa10ca8dad"
      },
      "outputs": [
        {
          "output_type": "execute_result",
          "data": {
            "text/plain": [
              "  ffl_type ffl_state final_disposition inspection_complete_date  \\\n",
              "0   Dealer        NC    Warning letter               2015-12-01   \n",
              "1   Dealer        OH    Warning letter               2016-07-18   \n",
              "2   Dealer        FL    Warning letter               2016-07-15   \n",
              "3   Dealer        TX    Warning letter               2016-07-05   \n",
              "4   Dealer        GA    Warning letter               2016-11-08   \n",
              "\n",
              "  revocation_warranted                                         violations  \\\n",
              "0                    N                  478.21(a), 478.102(a), 478.103(a)   \n",
              "1                    N  478.21(a), 478.124(c)(1), 478.124(c)(3)(iv), 4...   \n",
              "2                    N  478.21(a), 478.124(c)(1), 478.124(c)(3)(iv), 4...   \n",
              "3                    N  478.21(a), 478.102(a), 478.124(a), 478.124(c)(...   \n",
              "4                    N  478.21(a), 478.124(c)(1), 478.124(c)(3)(i), 47...   \n",
              "\n",
              "     totals  Revocation/denial of renewal  Settlement  \\\n",
              "0 -0.636008                             0           0   \n",
              "1  0.349873                             0           0   \n",
              "2  0.349873                             0           0   \n",
              "3  1.007126                             0           0   \n",
              "4  1.335753                             0           0   \n",
              "\n",
              "   Surrendered/out of business  Warning conference  Warning letter  N  Y  \\\n",
              "0                            0                   0               1  1  0   \n",
              "1                            0                   0               1  1  0   \n",
              "2                            0                   0               1  1  0   \n",
              "3                            0                   0               1  1  0   \n",
              "4                            0                   0               1  1  0   \n",
              "\n",
              "   target_codes  \n",
              "0           0.0  \n",
              "1           0.0  \n",
              "2           0.0  \n",
              "3           0.0  \n",
              "4           0.0  "
            ],
            "text/html": [
              "\n",
              "  <div id=\"df-e065867a-f032-4ae5-bc1f-544a36c09bdf\">\n",
              "    <div class=\"colab-df-container\">\n",
              "      <div>\n",
              "<style scoped>\n",
              "    .dataframe tbody tr th:only-of-type {\n",
              "        vertical-align: middle;\n",
              "    }\n",
              "\n",
              "    .dataframe tbody tr th {\n",
              "        vertical-align: top;\n",
              "    }\n",
              "\n",
              "    .dataframe thead th {\n",
              "        text-align: right;\n",
              "    }\n",
              "</style>\n",
              "<table border=\"1\" class=\"dataframe\">\n",
              "  <thead>\n",
              "    <tr style=\"text-align: right;\">\n",
              "      <th></th>\n",
              "      <th>ffl_type</th>\n",
              "      <th>ffl_state</th>\n",
              "      <th>final_disposition</th>\n",
              "      <th>inspection_complete_date</th>\n",
              "      <th>revocation_warranted</th>\n",
              "      <th>violations</th>\n",
              "      <th>totals</th>\n",
              "      <th>Revocation/denial of renewal</th>\n",
              "      <th>Settlement</th>\n",
              "      <th>Surrendered/out of business</th>\n",
              "      <th>Warning conference</th>\n",
              "      <th>Warning letter</th>\n",
              "      <th>N</th>\n",
              "      <th>Y</th>\n",
              "      <th>target_codes</th>\n",
              "    </tr>\n",
              "  </thead>\n",
              "  <tbody>\n",
              "    <tr>\n",
              "      <th>0</th>\n",
              "      <td>Dealer</td>\n",
              "      <td>NC</td>\n",
              "      <td>Warning letter</td>\n",
              "      <td>2015-12-01</td>\n",
              "      <td>N</td>\n",
              "      <td>478.21(a), 478.102(a), 478.103(a)</td>\n",
              "      <td>-0.636008</td>\n",
              "      <td>0</td>\n",
              "      <td>0</td>\n",
              "      <td>0</td>\n",
              "      <td>0</td>\n",
              "      <td>1</td>\n",
              "      <td>1</td>\n",
              "      <td>0</td>\n",
              "      <td>0.0</td>\n",
              "    </tr>\n",
              "    <tr>\n",
              "      <th>1</th>\n",
              "      <td>Dealer</td>\n",
              "      <td>OH</td>\n",
              "      <td>Warning letter</td>\n",
              "      <td>2016-07-18</td>\n",
              "      <td>N</td>\n",
              "      <td>478.21(a), 478.124(c)(1), 478.124(c)(3)(iv), 4...</td>\n",
              "      <td>0.349873</td>\n",
              "      <td>0</td>\n",
              "      <td>0</td>\n",
              "      <td>0</td>\n",
              "      <td>0</td>\n",
              "      <td>1</td>\n",
              "      <td>1</td>\n",
              "      <td>0</td>\n",
              "      <td>0.0</td>\n",
              "    </tr>\n",
              "    <tr>\n",
              "      <th>2</th>\n",
              "      <td>Dealer</td>\n",
              "      <td>FL</td>\n",
              "      <td>Warning letter</td>\n",
              "      <td>2016-07-15</td>\n",
              "      <td>N</td>\n",
              "      <td>478.21(a), 478.124(c)(1), 478.124(c)(3)(iv), 4...</td>\n",
              "      <td>0.349873</td>\n",
              "      <td>0</td>\n",
              "      <td>0</td>\n",
              "      <td>0</td>\n",
              "      <td>0</td>\n",
              "      <td>1</td>\n",
              "      <td>1</td>\n",
              "      <td>0</td>\n",
              "      <td>0.0</td>\n",
              "    </tr>\n",
              "    <tr>\n",
              "      <th>3</th>\n",
              "      <td>Dealer</td>\n",
              "      <td>TX</td>\n",
              "      <td>Warning letter</td>\n",
              "      <td>2016-07-05</td>\n",
              "      <td>N</td>\n",
              "      <td>478.21(a), 478.102(a), 478.124(a), 478.124(c)(...</td>\n",
              "      <td>1.007126</td>\n",
              "      <td>0</td>\n",
              "      <td>0</td>\n",
              "      <td>0</td>\n",
              "      <td>0</td>\n",
              "      <td>1</td>\n",
              "      <td>1</td>\n",
              "      <td>0</td>\n",
              "      <td>0.0</td>\n",
              "    </tr>\n",
              "    <tr>\n",
              "      <th>4</th>\n",
              "      <td>Dealer</td>\n",
              "      <td>GA</td>\n",
              "      <td>Warning letter</td>\n",
              "      <td>2016-11-08</td>\n",
              "      <td>N</td>\n",
              "      <td>478.21(a), 478.124(c)(1), 478.124(c)(3)(i), 47...</td>\n",
              "      <td>1.335753</td>\n",
              "      <td>0</td>\n",
              "      <td>0</td>\n",
              "      <td>0</td>\n",
              "      <td>0</td>\n",
              "      <td>1</td>\n",
              "      <td>1</td>\n",
              "      <td>0</td>\n",
              "      <td>0.0</td>\n",
              "    </tr>\n",
              "  </tbody>\n",
              "</table>\n",
              "</div>\n",
              "      <button class=\"colab-df-convert\" onclick=\"convertToInteractive('df-e065867a-f032-4ae5-bc1f-544a36c09bdf')\"\n",
              "              title=\"Convert this dataframe to an interactive table.\"\n",
              "              style=\"display:none;\">\n",
              "        \n",
              "  <svg xmlns=\"http://www.w3.org/2000/svg\" height=\"24px\"viewBox=\"0 0 24 24\"\n",
              "       width=\"24px\">\n",
              "    <path d=\"M0 0h24v24H0V0z\" fill=\"none\"/>\n",
              "    <path d=\"M18.56 5.44l.94 2.06.94-2.06 2.06-.94-2.06-.94-.94-2.06-.94 2.06-2.06.94zm-11 1L8.5 8.5l.94-2.06 2.06-.94-2.06-.94L8.5 2.5l-.94 2.06-2.06.94zm10 10l.94 2.06.94-2.06 2.06-.94-2.06-.94-.94-2.06-.94 2.06-2.06.94z\"/><path d=\"M17.41 7.96l-1.37-1.37c-.4-.4-.92-.59-1.43-.59-.52 0-1.04.2-1.43.59L10.3 9.45l-7.72 7.72c-.78.78-.78 2.05 0 2.83L4 21.41c.39.39.9.59 1.41.59.51 0 1.02-.2 1.41-.59l7.78-7.78 2.81-2.81c.8-.78.8-2.07 0-2.86zM5.41 20L4 18.59l7.72-7.72 1.47 1.35L5.41 20z\"/>\n",
              "  </svg>\n",
              "      </button>\n",
              "      \n",
              "  <style>\n",
              "    .colab-df-container {\n",
              "      display:flex;\n",
              "      flex-wrap:wrap;\n",
              "      gap: 12px;\n",
              "    }\n",
              "\n",
              "    .colab-df-convert {\n",
              "      background-color: #E8F0FE;\n",
              "      border: none;\n",
              "      border-radius: 50%;\n",
              "      cursor: pointer;\n",
              "      display: none;\n",
              "      fill: #1967D2;\n",
              "      height: 32px;\n",
              "      padding: 0 0 0 0;\n",
              "      width: 32px;\n",
              "    }\n",
              "\n",
              "    .colab-df-convert:hover {\n",
              "      background-color: #E2EBFA;\n",
              "      box-shadow: 0px 1px 2px rgba(60, 64, 67, 0.3), 0px 1px 3px 1px rgba(60, 64, 67, 0.15);\n",
              "      fill: #174EA6;\n",
              "    }\n",
              "\n",
              "    [theme=dark] .colab-df-convert {\n",
              "      background-color: #3B4455;\n",
              "      fill: #D2E3FC;\n",
              "    }\n",
              "\n",
              "    [theme=dark] .colab-df-convert:hover {\n",
              "      background-color: #434B5C;\n",
              "      box-shadow: 0px 1px 3px 1px rgba(0, 0, 0, 0.15);\n",
              "      filter: drop-shadow(0px 1px 2px rgba(0, 0, 0, 0.3));\n",
              "      fill: #FFFFFF;\n",
              "    }\n",
              "  </style>\n",
              "\n",
              "      <script>\n",
              "        const buttonEl =\n",
              "          document.querySelector('#df-e065867a-f032-4ae5-bc1f-544a36c09bdf button.colab-df-convert');\n",
              "        buttonEl.style.display =\n",
              "          google.colab.kernel.accessAllowed ? 'block' : 'none';\n",
              "\n",
              "        async function convertToInteractive(key) {\n",
              "          const element = document.querySelector('#df-e065867a-f032-4ae5-bc1f-544a36c09bdf');\n",
              "          const dataTable =\n",
              "            await google.colab.kernel.invokeFunction('convertToInteractive',\n",
              "                                                     [key], {});\n",
              "          if (!dataTable) return;\n",
              "\n",
              "          const docLinkHtml = 'Like what you see? Visit the ' +\n",
              "            '<a target=\"_blank\" href=https://colab.research.google.com/notebooks/data_table.ipynb>data table notebook</a>'\n",
              "            + ' to learn more about interactive tables.';\n",
              "          element.innerHTML = '';\n",
              "          dataTable['output_type'] = 'display_data';\n",
              "          await google.colab.output.renderOutput(dataTable, element);\n",
              "          const docLink = document.createElement('div');\n",
              "          docLink.innerHTML = docLinkHtml;\n",
              "          element.appendChild(docLink);\n",
              "        }\n",
              "      </script>\n",
              "    </div>\n",
              "  </div>\n",
              "  "
            ]
          },
          "metadata": {},
          "execution_count": 326
        }
      ],
      "source": [
        "# Scaling down continuous variable of totals\n",
        "scaler = StandardScaler()\n",
        "violations['totals'] = scaler.fit(violations['totals'].array.reshape(-1, 1)).transform(violations['totals'].array.reshape(-1, 1))\n",
        "violations.head()\n"
      ]
    },
    {
      "cell_type": "markdown",
      "source": [
        "We drop NA values rather than impute them because there are only 6 and they are target codes, not other features "
      ],
      "metadata": {
        "id": "ZfmjZeuWIRSK"
      }
    },
    {
      "cell_type": "code",
      "execution_count": 327,
      "metadata": {
        "id": "wErMr2d4Lr7q"
      },
      "outputs": [],
      "source": [
        "violations = violations.dropna()"
      ]
    },
    {
      "cell_type": "code",
      "execution_count": 328,
      "metadata": {
        "colab": {
          "base_uri": "https://localhost:8080/",
          "height": 423
        },
        "id": "uknfobAdLr7q",
        "outputId": "70dfe3df-82ac-4e1b-e07f-e489847a4677"
      },
      "outputs": [
        {
          "output_type": "execute_result",
          "data": {
            "text/plain": [
              "        totals  Surrendered/out of business  Warning conference  \\\n",
              "1435 -1.293261                            0                   0   \n",
              "1752 -1.293261                            0                   0   \n",
              "1056  0.678500                            0                   0   \n",
              "295  -0.964635                            0                   0   \n",
              "533  -0.636008                            0                   1   \n",
              "...        ...                          ...                 ...   \n",
              "1351  1.007126                            0                   0   \n",
              "583  -1.293261                            0                   0   \n",
              "122  -1.293261                            0                   0   \n",
              "1267  1.664380                            0                   0   \n",
              "683   0.349873                            0                   0   \n",
              "\n",
              "      Warning letter  Y  Settlement  \n",
              "1435               1  0           0  \n",
              "1752               1  0           0  \n",
              "1056               1  0           0  \n",
              "295                1  0           0  \n",
              "533                0  1           0  \n",
              "...              ... ..         ...  \n",
              "1351               1  0           0  \n",
              "583                1  0           0  \n",
              "122                0  1           0  \n",
              "1267               1  0           0  \n",
              "683                1  0           0  \n",
              "\n",
              "[1434 rows x 6 columns]"
            ],
            "text/html": [
              "\n",
              "  <div id=\"df-df4ed469-44ac-40f3-8d5e-cd39f0e7e368\">\n",
              "    <div class=\"colab-df-container\">\n",
              "      <div>\n",
              "<style scoped>\n",
              "    .dataframe tbody tr th:only-of-type {\n",
              "        vertical-align: middle;\n",
              "    }\n",
              "\n",
              "    .dataframe tbody tr th {\n",
              "        vertical-align: top;\n",
              "    }\n",
              "\n",
              "    .dataframe thead th {\n",
              "        text-align: right;\n",
              "    }\n",
              "</style>\n",
              "<table border=\"1\" class=\"dataframe\">\n",
              "  <thead>\n",
              "    <tr style=\"text-align: right;\">\n",
              "      <th></th>\n",
              "      <th>totals</th>\n",
              "      <th>Surrendered/out of business</th>\n",
              "      <th>Warning conference</th>\n",
              "      <th>Warning letter</th>\n",
              "      <th>Y</th>\n",
              "      <th>Settlement</th>\n",
              "    </tr>\n",
              "  </thead>\n",
              "  <tbody>\n",
              "    <tr>\n",
              "      <th>1435</th>\n",
              "      <td>-1.293261</td>\n",
              "      <td>0</td>\n",
              "      <td>0</td>\n",
              "      <td>1</td>\n",
              "      <td>0</td>\n",
              "      <td>0</td>\n",
              "    </tr>\n",
              "    <tr>\n",
              "      <th>1752</th>\n",
              "      <td>-1.293261</td>\n",
              "      <td>0</td>\n",
              "      <td>0</td>\n",
              "      <td>1</td>\n",
              "      <td>0</td>\n",
              "      <td>0</td>\n",
              "    </tr>\n",
              "    <tr>\n",
              "      <th>1056</th>\n",
              "      <td>0.678500</td>\n",
              "      <td>0</td>\n",
              "      <td>0</td>\n",
              "      <td>1</td>\n",
              "      <td>0</td>\n",
              "      <td>0</td>\n",
              "    </tr>\n",
              "    <tr>\n",
              "      <th>295</th>\n",
              "      <td>-0.964635</td>\n",
              "      <td>0</td>\n",
              "      <td>0</td>\n",
              "      <td>1</td>\n",
              "      <td>0</td>\n",
              "      <td>0</td>\n",
              "    </tr>\n",
              "    <tr>\n",
              "      <th>533</th>\n",
              "      <td>-0.636008</td>\n",
              "      <td>0</td>\n",
              "      <td>1</td>\n",
              "      <td>0</td>\n",
              "      <td>1</td>\n",
              "      <td>0</td>\n",
              "    </tr>\n",
              "    <tr>\n",
              "      <th>...</th>\n",
              "      <td>...</td>\n",
              "      <td>...</td>\n",
              "      <td>...</td>\n",
              "      <td>...</td>\n",
              "      <td>...</td>\n",
              "      <td>...</td>\n",
              "    </tr>\n",
              "    <tr>\n",
              "      <th>1351</th>\n",
              "      <td>1.007126</td>\n",
              "      <td>0</td>\n",
              "      <td>0</td>\n",
              "      <td>1</td>\n",
              "      <td>0</td>\n",
              "      <td>0</td>\n",
              "    </tr>\n",
              "    <tr>\n",
              "      <th>583</th>\n",
              "      <td>-1.293261</td>\n",
              "      <td>0</td>\n",
              "      <td>0</td>\n",
              "      <td>1</td>\n",
              "      <td>0</td>\n",
              "      <td>0</td>\n",
              "    </tr>\n",
              "    <tr>\n",
              "      <th>122</th>\n",
              "      <td>-1.293261</td>\n",
              "      <td>0</td>\n",
              "      <td>0</td>\n",
              "      <td>0</td>\n",
              "      <td>1</td>\n",
              "      <td>0</td>\n",
              "    </tr>\n",
              "    <tr>\n",
              "      <th>1267</th>\n",
              "      <td>1.664380</td>\n",
              "      <td>0</td>\n",
              "      <td>0</td>\n",
              "      <td>1</td>\n",
              "      <td>0</td>\n",
              "      <td>0</td>\n",
              "    </tr>\n",
              "    <tr>\n",
              "      <th>683</th>\n",
              "      <td>0.349873</td>\n",
              "      <td>0</td>\n",
              "      <td>0</td>\n",
              "      <td>1</td>\n",
              "      <td>0</td>\n",
              "      <td>0</td>\n",
              "    </tr>\n",
              "  </tbody>\n",
              "</table>\n",
              "<p>1434 rows × 6 columns</p>\n",
              "</div>\n",
              "      <button class=\"colab-df-convert\" onclick=\"convertToInteractive('df-df4ed469-44ac-40f3-8d5e-cd39f0e7e368')\"\n",
              "              title=\"Convert this dataframe to an interactive table.\"\n",
              "              style=\"display:none;\">\n",
              "        \n",
              "  <svg xmlns=\"http://www.w3.org/2000/svg\" height=\"24px\"viewBox=\"0 0 24 24\"\n",
              "       width=\"24px\">\n",
              "    <path d=\"M0 0h24v24H0V0z\" fill=\"none\"/>\n",
              "    <path d=\"M18.56 5.44l.94 2.06.94-2.06 2.06-.94-2.06-.94-.94-2.06-.94 2.06-2.06.94zm-11 1L8.5 8.5l.94-2.06 2.06-.94-2.06-.94L8.5 2.5l-.94 2.06-2.06.94zm10 10l.94 2.06.94-2.06 2.06-.94-2.06-.94-.94-2.06-.94 2.06-2.06.94z\"/><path d=\"M17.41 7.96l-1.37-1.37c-.4-.4-.92-.59-1.43-.59-.52 0-1.04.2-1.43.59L10.3 9.45l-7.72 7.72c-.78.78-.78 2.05 0 2.83L4 21.41c.39.39.9.59 1.41.59.51 0 1.02-.2 1.41-.59l7.78-7.78 2.81-2.81c.8-.78.8-2.07 0-2.86zM5.41 20L4 18.59l7.72-7.72 1.47 1.35L5.41 20z\"/>\n",
              "  </svg>\n",
              "      </button>\n",
              "      \n",
              "  <style>\n",
              "    .colab-df-container {\n",
              "      display:flex;\n",
              "      flex-wrap:wrap;\n",
              "      gap: 12px;\n",
              "    }\n",
              "\n",
              "    .colab-df-convert {\n",
              "      background-color: #E8F0FE;\n",
              "      border: none;\n",
              "      border-radius: 50%;\n",
              "      cursor: pointer;\n",
              "      display: none;\n",
              "      fill: #1967D2;\n",
              "      height: 32px;\n",
              "      padding: 0 0 0 0;\n",
              "      width: 32px;\n",
              "    }\n",
              "\n",
              "    .colab-df-convert:hover {\n",
              "      background-color: #E2EBFA;\n",
              "      box-shadow: 0px 1px 2px rgba(60, 64, 67, 0.3), 0px 1px 3px 1px rgba(60, 64, 67, 0.15);\n",
              "      fill: #174EA6;\n",
              "    }\n",
              "\n",
              "    [theme=dark] .colab-df-convert {\n",
              "      background-color: #3B4455;\n",
              "      fill: #D2E3FC;\n",
              "    }\n",
              "\n",
              "    [theme=dark] .colab-df-convert:hover {\n",
              "      background-color: #434B5C;\n",
              "      box-shadow: 0px 1px 3px 1px rgba(0, 0, 0, 0.15);\n",
              "      filter: drop-shadow(0px 1px 2px rgba(0, 0, 0, 0.3));\n",
              "      fill: #FFFFFF;\n",
              "    }\n",
              "  </style>\n",
              "\n",
              "      <script>\n",
              "        const buttonEl =\n",
              "          document.querySelector('#df-df4ed469-44ac-40f3-8d5e-cd39f0e7e368 button.colab-df-convert');\n",
              "        buttonEl.style.display =\n",
              "          google.colab.kernel.accessAllowed ? 'block' : 'none';\n",
              "\n",
              "        async function convertToInteractive(key) {\n",
              "          const element = document.querySelector('#df-df4ed469-44ac-40f3-8d5e-cd39f0e7e368');\n",
              "          const dataTable =\n",
              "            await google.colab.kernel.invokeFunction('convertToInteractive',\n",
              "                                                     [key], {});\n",
              "          if (!dataTable) return;\n",
              "\n",
              "          const docLinkHtml = 'Like what you see? Visit the ' +\n",
              "            '<a target=\"_blank\" href=https://colab.research.google.com/notebooks/data_table.ipynb>data table notebook</a>'\n",
              "            + ' to learn more about interactive tables.';\n",
              "          element.innerHTML = '';\n",
              "          dataTable['output_type'] = 'display_data';\n",
              "          await google.colab.output.renderOutput(dataTable, element);\n",
              "          const docLink = document.createElement('div');\n",
              "          docLink.innerHTML = docLinkHtml;\n",
              "          element.appendChild(docLink);\n",
              "        }\n",
              "      </script>\n",
              "    </div>\n",
              "  </div>\n",
              "  "
            ]
          },
          "metadata": {},
          "execution_count": 328
        }
      ],
      "source": [
        "# splitting into training and testing\n",
        "# features i am removing because they are less important \"Revocation/denial of renewal\",\"Surrendered/out of business\",\n",
        "y = violations[\"target_codes\"]\n",
        "X = violations.loc[:, violations.columns != \"target_codes\"] \n",
        "X = X[[\"totals\",\"Surrendered/out of business\",\"Warning conference\", \"Warning letter\", \"Y\", \"Settlement\"]]\n",
        "# subset selection\n",
        "X_train, X_test, y_train, y_test = train_test_split(X, y,\n",
        "                                                    test_size=0.25,\n",
        "                                                    random_state=16)\n",
        "X_train\n",
        "# we are going to test models on our X_train as well and primarily go with the ones showing the best results, but will demonstrate that we tried both resampled and original training models"
      ]
    },
    {
      "cell_type": "markdown",
      "metadata": {
        "id": "QI8-lQDmLr7q"
      },
      "source": [
        "##### Dealing with class imbalances"
      ]
    },
    {
      "cell_type": "code",
      "execution_count": 329,
      "metadata": {
        "colab": {
          "base_uri": "https://localhost:8080/",
          "height": 522
        },
        "id": "EDxQ0phBLr7q",
        "outputId": "978730ae-6f08-4f13-aef6-0bd28e618fce"
      },
      "outputs": [
        {
          "output_type": "display_data",
          "data": {
            "text/plain": [
              "<Figure size 800x550 with 1 Axes>"
            ],
            "image/png": "[encoded data removed]"
          },
          "metadata": {}
        },
        {
          "output_type": "execute_result",
          "data": {
            "text/plain": [
              "<Axes: title={'center': 'Class Balance for 1,912 Instances'}, ylabel='support'>"
            ]
          },
          "metadata": {},
          "execution_count": 329
        }
      ],
      "source": [
        "visualizer = ClassBalance(labels=[\"Dealer\", \"Manufacturer\"])\n",
        "\n",
        "visualizer.fit(y)        \n",
        "visualizer.show()  "
      ]
    },
    {
      "cell_type": "markdown",
      "metadata": {
        "id": "aNdAoeJr-1uv"
      },
      "source": [
        "Clear class imbalance. Will be using SMOTE to resample data. "
      ]
    },
    {
      "cell_type": "code",
      "execution_count": 330,
      "metadata": {
        "colab": {
          "base_uri": "https://localhost:8080/",
          "height": 522
        },
        "id": "FgoVvaaXLr7r",
        "outputId": "5f8a2d5c-21f4-4608-d8fd-945626dd22e7"
      },
      "outputs": [
        {
          "output_type": "display_data",
          "data": {
            "text/plain": [
              "<Figure size 800x550 with 1 Axes>"
            ],
            "image/png": "[encoded data removed]"
          },
          "metadata": {}
        },
        {
          "output_type": "execute_result",
          "data": {
            "text/plain": [
              "<Axes: title={'center': 'Class Balance for 2,198 Instances'}, ylabel='support'>"
            ]
          },
          "metadata": {},
          "execution_count": 330
        }
      ],
      "source": [
        "sm = SMOTE(random_state=17)\n",
        "X_train_smote, y_train_smote = sm.fit_resample(X_train, y_train)\n",
        "\n",
        "visualizer = ClassBalance(labels=[\"Dealer\", \"Manufacturer\"])\n",
        "visualizer.fit(y_train_smote)    \n",
        "visualizer.show()"
      ]
    },
    {
      "cell_type": "markdown",
      "metadata": {
        "id": "oUOh9RbbLr7r"
      },
      "source": [
        "## Model Training and Selection "
      ]
    },
    {
      "cell_type": "markdown",
      "metadata": {
        "id": "RMfOIuNWLr7s"
      },
      "source": [
        "### Model 1. AdaBoost with SMOTE Resampled data"
      ]
    },
    {
      "cell_type": "code",
      "execution_count": 331,
      "metadata": {
        "colab": {
          "base_uri": "https://localhost:8080/"
        },
        "id": "xNYirfgxLr7t",
        "outputId": "b953a03d-f4af-489b-da0c-9ad5abd719a1"
      },
      "outputs": [
        {
          "output_type": "execute_result",
          "data": {
            "text/plain": [
              "{'learning_rate': 1.0, 'n_estimators': 300}"
            ]
          },
          "metadata": {},
          "execution_count": 331
        }
      ],
      "source": [
        "ada_boost_params = {'n_estimators': [50, 100, 200, 250, 300],\n",
        "                    'learning_rate': [0.1, 0.5, 1.0]}\n",
        "\n",
        "\n",
        "ada_boost_gs = GridSearchCV(AdaBoostClassifier(), ada_boost_params, scoring='accuracy', cv=10)\n",
        "ada_boost_gs.fit(X_train_smote, y_train_smote)\n",
        "ada_boost_gs.best_params_\n",
        "\n"
      ]
    },
    {
      "cell_type": "code",
      "execution_count": 332,
      "metadata": {
        "colab": {
          "base_uri": "https://localhost:8080/"
        },
        "id": "q2aPJ6baLr7t",
        "outputId": "8f4d8b62-76b6-4ac4-abf2-57f8f87bbf3c"
      },
      "outputs": [
        {
          "output_type": "stream",
          "name": "stdout",
          "text": [
            "              precision    recall  f1-score   support\n",
            "\n",
            "      Dealer      0.763     0.572     0.654       355\n",
            "Manufacturer      0.283     0.488     0.358       123\n",
            "\n",
            "    accuracy                          0.550       478\n",
            "   macro avg      0.523     0.530     0.506       478\n",
            "weighted avg      0.640     0.550     0.578       478\n",
            "\n"
          ]
        }
      ],
      "source": [
        "ada_boost_gs = AdaBoostClassifier(learning_rate = 1, n_estimators = 100)\n",
        "ada_boost_gs.fit(X_train_smote, y_train_smote)\n",
        "\n",
        "y_pred = ada_boost_gs.predict(X_test)\n",
        "accuracy = accuracy_score(y_test, y_pred)\n",
        "print(classification_report(y_test, y_pred, digits=3, target_names=[\"Dealer\", \"Manufacturer\"]))"
      ]
    },
    {
      "cell_type": "markdown",
      "metadata": {
        "id": "wVV0KV2V-1uw"
      },
      "source": [
        "We are trying models on our non resampled data as well as the resampled data and will go with whichever models perform best. "
      ]
    },
    {
      "cell_type": "markdown",
      "metadata": {
        "id": "KbBkXkgo-1uw"
      },
      "source": [
        "### Model 2. KNN"
      ]
    },
    {
      "cell_type": "code",
      "execution_count": 333,
      "metadata": {
        "colab": {
          "base_uri": "https://localhost:8080/"
        },
        "id": "bwJkSGsK-1uw",
        "outputId": "f47b09b4-8857-46ca-a902-ec76bf4ce6af"
      },
      "outputs": [
        {
          "output_type": "stream",
          "name": "stdout",
          "text": [
            "KNN classification report:\n",
            "              precision    recall  f1-score   support\n",
            "\n",
            "      Dealer       0.74      0.84      0.78       355\n",
            "Manufacturer       0.24      0.15      0.18       123\n",
            "\n",
            "    accuracy                           0.66       478\n",
            "   macro avg       0.49      0.49      0.48       478\n",
            "weighted avg       0.61      0.66      0.63       478\n",
            "\n"
          ]
        }
      ],
      "source": [
        "knn_params = {'n_neighbors': [3, 5, 7],\n",
        "              'weights': ['uniform', 'distance'],\n",
        "              'algorithm': ['ball_tree', 'kd_tree', 'brute']}\n",
        "\n",
        "\n",
        "#GridSearch\n",
        "knn = GridSearchCV(KNeighborsClassifier(), knn_params, scoring='recall', cv=5)\n",
        "       \n",
        "#Fitting the model\n",
        "knn.fit(X_train, y_train)\n",
        "\n",
        "# Choosing the best model\n",
        "best_knn = knn.best_estimator_\n",
        "\n",
        "# Testing the best model\n",
        "knn_pred = best_knn.predict(X_test)\n",
        "print(\"KNN classification report:\")\n",
        "print(classification_report(y_test, knn_pred, target_names=['Dealer', 'Manufacturer']))"
      ]
    },
    {
      "cell_type": "markdown",
      "metadata": {
        "id": "FGNN5zul-1uw"
      },
      "source": [
        "### Model 3. Logistic Regression"
      ]
    },
    {
      "cell_type": "code",
      "execution_count": 334,
      "metadata": {
        "colab": {
          "base_uri": "https://localhost:8080/"
        },
        "id": "96WQhQpQ-1uw",
        "outputId": "73f4b8a8-1b6b-4321-967d-3560be172188"
      },
      "outputs": [
        {
          "output_type": "stream",
          "name": "stdout",
          "text": [
            "Logistic Regression classification report:\n",
            "              precision    recall  f1-score   support\n",
            "\n",
            "      Dealer       0.74      1.00      0.85       355\n",
            "Manufacturer       0.50      0.01      0.02       123\n",
            "\n",
            "    accuracy                           0.74       478\n",
            "   macro avg       0.62      0.50      0.43       478\n",
            "weighted avg       0.68      0.74      0.64       478\n",
            "\n"
          ]
        }
      ],
      "source": [
        "logistic_params = {'C': [0.01, 0.1, 1, 10, 100, 500, 1000],\n",
        "                   'solver': ['lbfgs', 'liblinear', 'newton-cg', 'sag', 'saga']}\n",
        "\n",
        "\n",
        "\n",
        "#GridSearch\n",
        "logistic = GridSearchCV(LogisticRegression(), logistic_params, scoring='f1', cv=5)\n",
        "       \n",
        "#Fitting the model\n",
        "logistic.fit(X_train, y_train)\n",
        "\n",
        "# Choosing the best model\n",
        "best_logistic = logistic.best_estimator_\n",
        "\n",
        "# Testing the best model\n",
        "logistic_pred = best_logistic.predict(X_test)\n",
        "print(\"Logistic Regression classification report:\")\n",
        "print(classification_report(y_test, logistic_pred, target_names=['Dealer', 'Manufacturer']))"
      ]
    },
    {
      "cell_type": "markdown",
      "metadata": {
        "id": "5sG1OVm0-1uw"
      },
      "source": [
        "### Model 4. Decision Trees"
      ]
    },
    {
      "cell_type": "code",
      "execution_count": 335,
      "metadata": {
        "colab": {
          "base_uri": "https://localhost:8080/"
        },
        "id": "jk9J8mJ4-1uw",
        "outputId": "6fbe917e-b7a2-499d-a004-39d912e2c313"
      },
      "outputs": [
        {
          "output_type": "stream",
          "name": "stdout",
          "text": [
            "Decision Tree classification report:\n",
            "              precision    recall  f1-score   support\n",
            "\n",
            "      Dealer       0.74      0.99      0.85       355\n",
            "Manufacturer       0.29      0.02      0.03       123\n",
            "\n",
            "    accuracy                           0.74       478\n",
            "   macro avg       0.51      0.50      0.44       478\n",
            "weighted avg       0.63      0.74      0.64       478\n",
            "\n"
          ]
        }
      ],
      "source": [
        "decision_tree_params = {'max_depth': [3, 5, 7],\n",
        "                        'min_samples_split': [2, 5, 10],\n",
        "                        'min_samples_leaf': [1, 2, 4]}\n",
        "\n",
        "#GridSearch\n",
        "decision_tree = GridSearchCV(DecisionTreeClassifier(), decision_tree_params, scoring='recall', cv=5)\n",
        "       \n",
        "#Fitting the model\n",
        "decision_tree.fit(X_train, y_train)\n",
        "\n",
        "# Choosing the best model\n",
        "best_decision_tree = decision_tree.best_estimator_\n",
        "\n",
        "# Testing the best model\n",
        "decision_tree_pred = best_decision_tree.predict(X_test)\n",
        "print(\"Decision Tree classification report:\")\n",
        "print(classification_report(y_test, decision_tree_pred, target_names=['Dealer', 'Manufacturer']))"
      ]
    },
    {
      "cell_type": "markdown",
      "metadata": {
        "id": "Rwchlj50-1uw"
      },
      "source": [
        "### Model 5. Ada Boost Classifier"
      ]
    },
    {
      "cell_type": "code",
      "execution_count": 336,
      "metadata": {
        "colab": {
          "base_uri": "https://localhost:8080/"
        },
        "id": "jeBhjfCs-1uw",
        "outputId": "6867f1b3-2bf5-4aef-adc8-7d9de989e864"
      },
      "outputs": [
        {
          "output_type": "stream",
          "name": "stdout",
          "text": [
            "AdaBoost classification report:\n",
            "              precision    recall  f1-score   support\n",
            "\n",
            "      Dealer       0.75      1.00      0.85       355\n",
            "Manufacturer       0.67      0.02      0.03       123\n",
            "\n",
            "    accuracy                           0.74       478\n",
            "   macro avg       0.71      0.51      0.44       478\n",
            "weighted avg       0.73      0.74      0.64       478\n",
            "\n"
          ]
        }
      ],
      "source": [
        "# Defining parameter for the gridseach\n",
        "\n",
        "ada_boost_params = {'n_estimators': [50, 100, 200],\n",
        "                    'learning_rate': [0.1, 0.5, 1.0]}\n",
        "\n",
        "\n",
        "#GridSearch\n",
        "ada_boost = GridSearchCV(AdaBoostClassifier(), ada_boost_params, scoring='recall', cv=5)\n",
        "       \n",
        "#Fitting the model\n",
        "ada_boost.fit(X_train, y_train)\n",
        "\n",
        "# Choosing the best model\n",
        "best_ada_boost = ada_boost.best_estimator_\n",
        "\n",
        "# Testing the best model\n",
        "ada_boost_pred = best_ada_boost.predict(X_test)\n",
        "print(\"AdaBoost classification report:\")\n",
        "print(classification_report(y_test, ada_boost_pred, target_names=['Dealer', 'Manufacturer']))"
      ]
    },
    {
      "cell_type": "markdown",
      "source": [
        "### Here, we see that by sampling the data, our model performs worse so we choose the model with the unsampled data. \n",
        "\n",
        "* We are selecting our final model as the AdaBoost as it performed the best with the highest minority class precision.\n",
        "\n",
        "* Our recall value is very low because of the dataset as it does not have enough features to discern between have less False Negatives for the Manufacturers.\n",
        "\n",
        "* We are prioritising Precision (True Positives) to investigate how inspection reports are reaffirming that the manufacturers are having the more violations than dealer."
      ],
      "metadata": {
        "id": "I2H5zJS7K-xK"
      }
    },
    {
      "cell_type": "code",
      "source": [
        "cm_AdaBoost = confusion_matrix(y_test,ada_boost_pred)\n",
        "display_cm= ConfusionMatrixDisplay(confusion_matrix=cm_AdaBoost,\n",
        "                                       display_labels=['Dealer', 'Manufacturer'])\n",
        "display_cm.plot();"
      ],
      "metadata": {
        "colab": {
          "base_uri": "https://localhost:8080/",
          "height": 504
        },
        "id": "634qdYv-RGGu",
        "outputId": "f59608dd-1e22-412f-c8aa-4d60fd075e69"
      },
      "execution_count": 337,
      "outputs": [
        {
          "output_type": "display_data",
          "data": {
            "text/plain": [
              "<Figure size 800x550 with 2 Axes>"
            ],
            "image/png": "[encoded data removed]"
          },
          "metadata": {}
        }
      ]
    },
    {
      "cell_type": "markdown",
      "source": [
        "#### Feature importance graph to infer our result"
      ],
      "metadata": {
        "id": "aHRU6toIQ3Zn"
      }
    },
    {
      "cell_type": "code",
      "execution_count": 338,
      "metadata": {
        "colab": {
          "base_uri": "https://localhost:8080/",
          "height": 485
        },
        "id": "AeLhvBByLr7r",
        "outputId": "156b2198-dbc4-401a-f545-5ba77d3576e7"
      },
      "outputs": [
        {
          "output_type": "display_data",
          "data": {
            "text/plain": [
              "<Figure size 1000x500 with 1 Axes>"
            ],
            "image/png": "[encoded data removed]"
          },
          "metadata": {}
        }
      ],
      "source": [
        "# Getting the feature importance and sorting it in descending order\n",
        "importances = best_ada_boost.feature_importances_\n",
        "indices = np.argsort(importances)[::-1]\n",
        "\n",
        "#bar plot\n",
        "plt.figure(figsize=(10, 5))\n",
        "plt.title(\"Classifier of dealer type (Gun Sellers)\")\n",
        "plt.barh(range(len(indices)), importances[indices], align=\"center\")\n",
        "feature_names = list(X_train.columns)\n",
        "plt.yticks(range(len(indices)), [feature_names[i] for i in indices])\n",
        "plt.xlabel(\"Relative Importance\")\n",
        "plt.show()"
      ]
    },
    {
      "cell_type": "markdown",
      "source": [
        "### Here we see that the feature totals (Total number of violations) is most impactful in the classfication for manufacturers, which conversely means that manufacturers do more violations"
      ],
      "metadata": {
        "id": "dkBnkuVfJiOo"
      }
    },
    {
      "cell_type": "markdown",
      "metadata": {
        "id": "LHb7KTUGN5Wi"
      },
      "source": [
        "# Reference\n",
        "\n",
        "\n",
        "*   AdaBoost - https://scikit-learn.org/stable/modules/generated/sklearn.ensemble.AdaBoostClassifier.html\n",
        "*   Pie Chart - https://matplotlib.org/stable/gallery/pie_and_polar_charts/pie_features.html\n",
        "*   ElasticNet - https://scikit-learn.org/stable/modules/generated/sklearn.linear_model.ElasticNet.html\n",
        "*   Recall vs Precision TradeOff - https://medium.com/analytics-vidhya/precision-recall-tradeoff-79e892d43134\n",
        "*   Statology, Drop Rows Contatining strings - https://www.statology.org/pandas-drop-rows-that-contain-string/\n",
        "*   Scikit learn Min Max Scaler - https://scikit-learn.org/stable/modules/generated/sklearn.preprocessing.MinMaxScaler.html\n",
        "*   Stackabuse - https://stackabuse.com/python-get-number-of-elements-in-a-list/, https://pandas.pydata.org/docs/reference/api/pandas.Series.str.split.html \n",
        "\n",
        "*   Lab notebooks - 3,4,5,6,7\n",
        "*   Lecture slides and Inclass assignment\n",
        "\n"
      ]
    }
  ],
  "metadata": {
    "colab": {
      "provenance": []
    },
    "gpuClass": "standard",
    "kernelspec": {
      "display_name": "Python 3 (ipykernel)",
      "language": "python",
      "name": "python3"
    },
    "language_info": {
      "codemirror_mode": {
        "name": "ipython",
        "version": 3
      },
      "file_extension": ".py",
      "mimetype": "text/x-python",
      "name": "python",
      "nbconvert_exporter": "python",
      "pygments_lexer": "ipython3",
      "version": "3.9.12"
    }
  },
  "nbformat": 4,
  "nbformat_minor": 0
}